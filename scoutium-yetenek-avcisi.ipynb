{
 "cells": [
  {
   "cell_type": "code",
   "execution_count": 1,
   "id": "91082414",
   "metadata": {
    "_cell_guid": "b1076dfc-b9ad-4769-8c92-a6c4dae69d19",
    "_uuid": "8f2839f25d086af736a60e9eeb907d3b93b6e0e5",
    "execution": {
     "iopub.execute_input": "2024-10-27T22:47:33.546430Z",
     "iopub.status.busy": "2024-10-27T22:47:33.545482Z",
     "iopub.status.idle": "2024-10-27T22:47:34.448952Z",
     "shell.execute_reply": "2024-10-27T22:47:34.447684Z"
    },
    "papermill": {
     "duration": 0.923598,
     "end_time": "2024-10-27T22:47:34.452366",
     "exception": false,
     "start_time": "2024-10-27T22:47:33.528768",
     "status": "completed"
    },
    "tags": []
   },
   "outputs": [
    {
     "name": "stdout",
     "output_type": "stream",
     "text": [
      "/kaggle/input/scoutiumdataset/scoutium_potential_labels.csv\n",
      "/kaggle/input/scoutiumdataset/scoutium_attributes.csv\n"
     ]
    }
   ],
   "source": [
    "# This Python 3 environment comes with many helpful analytics libraries installed\n",
    "# It is defined by the kaggle/python Docker image: https://github.com/kaggle/docker-python\n",
    "# For example, here's several helpful packages to load\n",
    "\n",
    "import numpy as np # linear algebra\n",
    "import pandas as pd # data processing, CSV file I/O (e.g. pd.read_csv)\n",
    "\n",
    "# Input data files are available in the read-only \"../input/\" directory\n",
    "# For example, running this (by clicking run or pressing Shift+Enter) will list all files under the input directory\n",
    "\n",
    "import os\n",
    "for dirname, _, filenames in os.walk('/kaggle/input'):\n",
    "    for filename in filenames:\n",
    "        print(os.path.join(dirname, filename))\n",
    "\n",
    "# You can write up to 20GB to the current directory (/kaggle/working/) that gets preserved as output when you create a version using \"Save & Run All\" \n",
    "# You can also write temporary files to /kaggle/temp/, but they won't be saved outside of the current session"
   ]
  },
  {
   "cell_type": "code",
   "execution_count": 2,
   "id": "d06ef682",
   "metadata": {
    "execution": {
     "iopub.execute_input": "2024-10-27T22:47:34.484991Z",
     "iopub.status.busy": "2024-10-27T22:47:34.484432Z",
     "iopub.status.idle": "2024-10-27T22:47:38.235129Z",
     "shell.execute_reply": "2024-10-27T22:47:38.233981Z"
    },
    "papermill": {
     "duration": 3.770178,
     "end_time": "2024-10-27T22:47:38.237842",
     "exception": false,
     "start_time": "2024-10-27T22:47:34.467664",
     "status": "completed"
    },
    "tags": []
   },
   "outputs": [],
   "source": [
    "import warnings\n",
    "import joblib\n",
    "import pandas as pd\n",
    "import seaborn as sns\n",
    "from matplotlib import pyplot as plt\n",
    "from sklearn.ensemble import RandomForestClassifier, GradientBoostingClassifier, VotingClassifier, AdaBoostClassifier\n",
    "from sklearn.linear_model import LogisticRegression\n",
    "from sklearn.model_selection import cross_validate, GridSearchCV\n",
    "from sklearn.neighbors import KNeighborsClassifier\n",
    "from sklearn.svm import SVC\n",
    "from sklearn.tree import DecisionTreeClassifier\n",
    "from sklearn.preprocessing import StandardScaler,LabelEncoder,OneHotEncoder,MinMaxScaler\n",
    "warnings.simplefilter(action='ignore', category=Warning)\n",
    "\n",
    "\n",
    "\n",
    "from xgboost import XGBClassifier\n",
    "from lightgbm import LGBMClassifier\n",
    "from catboost import CatBoostClassifier\n",
    "\n",
    "pd.set_option('display.max_columns', None)\n",
    "pd.set_option('display.width', 500)\n"
   ]
  },
  {
   "cell_type": "code",
   "execution_count": 3,
   "id": "a3b2aa9a",
   "metadata": {
    "execution": {
     "iopub.execute_input": "2024-10-27T22:47:38.268222Z",
     "iopub.status.busy": "2024-10-27T22:47:38.267548Z",
     "iopub.status.idle": "2024-10-27T22:47:38.349034Z",
     "shell.execute_reply": "2024-10-27T22:47:38.348052Z"
    },
    "papermill": {
     "duration": 0.099626,
     "end_time": "2024-10-27T22:47:38.351677",
     "exception": false,
     "start_time": "2024-10-27T22:47:38.252051",
     "status": "completed"
    },
    "tags": []
   },
   "outputs": [],
   "source": [
    "    \n",
    "df1=pd.read_csv(\"/kaggle/input/scoutiumdataset/scoutium_attributes.csv\",sep=\";\")\n",
    "df2=pd.read_csv(\"/kaggle/input/scoutiumdataset/scoutium_potential_labels.csv\",sep=\";\")\n",
    "df=df1.merge(df2,on=\"player_id\",how=\"inner\")"
   ]
  },
  {
   "cell_type": "code",
   "execution_count": 4,
   "id": "d810feae",
   "metadata": {
    "execution": {
     "iopub.execute_input": "2024-10-27T22:47:38.381494Z",
     "iopub.status.busy": "2024-10-27T22:47:38.381077Z",
     "iopub.status.idle": "2024-10-27T22:47:38.403321Z",
     "shell.execute_reply": "2024-10-27T22:47:38.402154Z"
    },
    "papermill": {
     "duration": 0.040015,
     "end_time": "2024-10-27T22:47:38.405785",
     "exception": false,
     "start_time": "2024-10-27T22:47:38.365770",
     "status": "completed"
    },
    "tags": []
   },
   "outputs": [
    {
     "data": {
      "text/html": [
       "<div>\n",
       "<style scoped>\n",
       "    .dataframe tbody tr th:only-of-type {\n",
       "        vertical-align: middle;\n",
       "    }\n",
       "\n",
       "    .dataframe tbody tr th {\n",
       "        vertical-align: top;\n",
       "    }\n",
       "\n",
       "    .dataframe thead th {\n",
       "        text-align: right;\n",
       "    }\n",
       "</style>\n",
       "<table border=\"1\" class=\"dataframe\">\n",
       "  <thead>\n",
       "    <tr style=\"text-align: right;\">\n",
       "      <th></th>\n",
       "      <th>task_response_id_x</th>\n",
       "      <th>match_id_x</th>\n",
       "      <th>evaluator_id_x</th>\n",
       "      <th>player_id</th>\n",
       "      <th>position_id</th>\n",
       "      <th>analysis_id</th>\n",
       "      <th>attribute_id</th>\n",
       "      <th>attribute_value</th>\n",
       "      <th>task_response_id_y</th>\n",
       "      <th>match_id_y</th>\n",
       "      <th>evaluator_id_y</th>\n",
       "      <th>potential_label</th>\n",
       "    </tr>\n",
       "  </thead>\n",
       "  <tbody>\n",
       "    <tr>\n",
       "      <th>0</th>\n",
       "      <td>4915</td>\n",
       "      <td>62935</td>\n",
       "      <td>177676</td>\n",
       "      <td>1361061</td>\n",
       "      <td>2</td>\n",
       "      <td>12818495</td>\n",
       "      <td>4322</td>\n",
       "      <td>56.0</td>\n",
       "      <td>4915</td>\n",
       "      <td>62935</td>\n",
       "      <td>177676</td>\n",
       "      <td>average</td>\n",
       "    </tr>\n",
       "    <tr>\n",
       "      <th>1</th>\n",
       "      <td>4915</td>\n",
       "      <td>62935</td>\n",
       "      <td>177676</td>\n",
       "      <td>1361061</td>\n",
       "      <td>2</td>\n",
       "      <td>12818495</td>\n",
       "      <td>4322</td>\n",
       "      <td>56.0</td>\n",
       "      <td>5319</td>\n",
       "      <td>63696</td>\n",
       "      <td>256441</td>\n",
       "      <td>average</td>\n",
       "    </tr>\n",
       "    <tr>\n",
       "      <th>2</th>\n",
       "      <td>4915</td>\n",
       "      <td>62935</td>\n",
       "      <td>177676</td>\n",
       "      <td>1361061</td>\n",
       "      <td>2</td>\n",
       "      <td>12818495</td>\n",
       "      <td>4322</td>\n",
       "      <td>56.0</td>\n",
       "      <td>5587</td>\n",
       "      <td>64045</td>\n",
       "      <td>256441</td>\n",
       "      <td>highlighted</td>\n",
       "    </tr>\n",
       "    <tr>\n",
       "      <th>3</th>\n",
       "      <td>4915</td>\n",
       "      <td>62935</td>\n",
       "      <td>177676</td>\n",
       "      <td>1361061</td>\n",
       "      <td>2</td>\n",
       "      <td>12818495</td>\n",
       "      <td>4323</td>\n",
       "      <td>56.0</td>\n",
       "      <td>4915</td>\n",
       "      <td>62935</td>\n",
       "      <td>177676</td>\n",
       "      <td>average</td>\n",
       "    </tr>\n",
       "    <tr>\n",
       "      <th>4</th>\n",
       "      <td>4915</td>\n",
       "      <td>62935</td>\n",
       "      <td>177676</td>\n",
       "      <td>1361061</td>\n",
       "      <td>2</td>\n",
       "      <td>12818495</td>\n",
       "      <td>4323</td>\n",
       "      <td>56.0</td>\n",
       "      <td>5319</td>\n",
       "      <td>63696</td>\n",
       "      <td>256441</td>\n",
       "      <td>average</td>\n",
       "    </tr>\n",
       "  </tbody>\n",
       "</table>\n",
       "</div>"
      ],
      "text/plain": [
       "   task_response_id_x  match_id_x  evaluator_id_x  player_id  position_id  analysis_id  attribute_id  attribute_value  task_response_id_y  match_id_y  evaluator_id_y potential_label\n",
       "0                4915       62935          177676    1361061            2     12818495          4322             56.0                4915       62935          177676         average\n",
       "1                4915       62935          177676    1361061            2     12818495          4322             56.0                5319       63696          256441         average\n",
       "2                4915       62935          177676    1361061            2     12818495          4322             56.0                5587       64045          256441     highlighted\n",
       "3                4915       62935          177676    1361061            2     12818495          4323             56.0                4915       62935          177676         average\n",
       "4                4915       62935          177676    1361061            2     12818495          4323             56.0                5319       63696          256441         average"
      ]
     },
     "execution_count": 4,
     "metadata": {},
     "output_type": "execute_result"
    }
   ],
   "source": [
    "df.head()"
   ]
  },
  {
   "cell_type": "code",
   "execution_count": 5,
   "id": "94195763",
   "metadata": {
    "execution": {
     "iopub.execute_input": "2024-10-27T22:47:38.436776Z",
     "iopub.status.busy": "2024-10-27T22:47:38.436068Z",
     "iopub.status.idle": "2024-10-27T22:47:38.447967Z",
     "shell.execute_reply": "2024-10-27T22:47:38.446970Z"
    },
    "papermill": {
     "duration": 0.030195,
     "end_time": "2024-10-27T22:47:38.450476",
     "exception": false,
     "start_time": "2024-10-27T22:47:38.420281",
     "status": "completed"
    },
    "tags": []
   },
   "outputs": [
    {
     "data": {
      "text/plain": [
       "player_id\n",
       "1361061    306\n",
       "1364951    306\n",
       "1361626    306\n",
       "1369065    306\n",
       "1370976    306\n",
       "          ... \n",
       "1599670     25\n",
       "1358124     25\n",
       "1371143     25\n",
       "1717975     25\n",
       "1796354     25\n",
       "Name: count, Length: 277, dtype: int64"
      ]
     },
     "execution_count": 5,
     "metadata": {},
     "output_type": "execute_result"
    }
   ],
   "source": [
    "df[\"player_id\"].value_counts()"
   ]
  },
  {
   "cell_type": "code",
   "execution_count": 6,
   "id": "7e9ecc73",
   "metadata": {
    "execution": {
     "iopub.execute_input": "2024-10-27T22:47:38.481657Z",
     "iopub.status.busy": "2024-10-27T22:47:38.481249Z",
     "iopub.status.idle": "2024-10-27T22:47:38.502672Z",
     "shell.execute_reply": "2024-10-27T22:47:38.501582Z"
    },
    "papermill": {
     "duration": 0.03995,
     "end_time": "2024-10-27T22:47:38.505164",
     "exception": false,
     "start_time": "2024-10-27T22:47:38.465214",
     "status": "completed"
    },
    "tags": []
   },
   "outputs": [
    {
     "name": "stdout",
     "output_type": "stream",
     "text": [
      "<class 'pandas.core.frame.DataFrame'>\n",
      "RangeIndex: 14126 entries, 0 to 14125\n",
      "Data columns (total 12 columns):\n",
      " #   Column              Non-Null Count  Dtype  \n",
      "---  ------              --------------  -----  \n",
      " 0   task_response_id_x  14126 non-null  int64  \n",
      " 1   match_id_x          14126 non-null  int64  \n",
      " 2   evaluator_id_x      14126 non-null  int64  \n",
      " 3   player_id           14126 non-null  int64  \n",
      " 4   position_id         14126 non-null  int64  \n",
      " 5   analysis_id         14126 non-null  int64  \n",
      " 6   attribute_id        14126 non-null  int64  \n",
      " 7   attribute_value     14126 non-null  float64\n",
      " 8   task_response_id_y  14126 non-null  int64  \n",
      " 9   match_id_y          14126 non-null  int64  \n",
      " 10  evaluator_id_y      14126 non-null  int64  \n",
      " 11  potential_label     14126 non-null  object \n",
      "dtypes: float64(1), int64(10), object(1)\n",
      "memory usage: 1.3+ MB\n"
     ]
    }
   ],
   "source": [
    "df.info()"
   ]
  },
  {
   "cell_type": "code",
   "execution_count": 7,
   "id": "ea1e7428",
   "metadata": {
    "execution": {
     "iopub.execute_input": "2024-10-27T22:47:38.536653Z",
     "iopub.status.busy": "2024-10-27T22:47:38.535943Z",
     "iopub.status.idle": "2024-10-27T22:47:38.543094Z",
     "shell.execute_reply": "2024-10-27T22:47:38.541994Z"
    },
    "papermill": {
     "duration": 0.025605,
     "end_time": "2024-10-27T22:47:38.545484",
     "exception": false,
     "start_time": "2024-10-27T22:47:38.519879",
     "status": "completed"
    },
    "tags": []
   },
   "outputs": [],
   "source": [
    "\n",
    "def check_df(dataframe, head=5):\n",
    "    print(\"##################### Shape #####################\")\n",
    "    print(dataframe.shape)\n",
    "    print(\"##################### Types #####################\")\n",
    "    print(dataframe.dtypes)\n",
    "    print(\"##################### Head #####################\")\n",
    "    print(dataframe.head(head))\n",
    "    print(\"##################### Tail #####################\")\n",
    "    print(dataframe.tail(head))\n",
    "    print(\"##################### NA #####################\")\n",
    "    print(dataframe.isnull().sum())\n",
    "    # print(\"##################### Quantiles #####################\")\n",
    "    # print(dataframe.quantile([0, 0.05, 0.50, 0.95, 0.99, 1]).T)\n"
   ]
  },
  {
   "cell_type": "code",
   "execution_count": 8,
   "id": "d29aa1f0",
   "metadata": {
    "execution": {
     "iopub.execute_input": "2024-10-27T22:47:38.577239Z",
     "iopub.status.busy": "2024-10-27T22:47:38.576784Z",
     "iopub.status.idle": "2024-10-27T22:47:38.594627Z",
     "shell.execute_reply": "2024-10-27T22:47:38.593145Z"
    },
    "papermill": {
     "duration": 0.036708,
     "end_time": "2024-10-27T22:47:38.597026",
     "exception": false,
     "start_time": "2024-10-27T22:47:38.560318",
     "status": "completed"
    },
    "tags": []
   },
   "outputs": [
    {
     "name": "stdout",
     "output_type": "stream",
     "text": [
      "##################### Shape #####################\n",
      "(14126, 12)\n",
      "##################### Types #####################\n",
      "task_response_id_x      int64\n",
      "match_id_x              int64\n",
      "evaluator_id_x          int64\n",
      "player_id               int64\n",
      "position_id             int64\n",
      "analysis_id             int64\n",
      "attribute_id            int64\n",
      "attribute_value       float64\n",
      "task_response_id_y      int64\n",
      "match_id_y              int64\n",
      "evaluator_id_y          int64\n",
      "potential_label        object\n",
      "dtype: object\n",
      "##################### Head #####################\n",
      "   task_response_id_x  match_id_x  evaluator_id_x  player_id  position_id  analysis_id  attribute_id  attribute_value  task_response_id_y  match_id_y  evaluator_id_y potential_label\n",
      "0                4915       62935          177676    1361061            2     12818495          4322             56.0                4915       62935          177676         average\n",
      "1                4915       62935          177676    1361061            2     12818495          4322             56.0                5319       63696          256441         average\n",
      "2                4915       62935          177676    1361061            2     12818495          4322             56.0                5587       64045          256441     highlighted\n",
      "3                4915       62935          177676    1361061            2     12818495          4323             56.0                4915       62935          177676         average\n",
      "4                4915       62935          177676    1361061            2     12818495          4323             56.0                5319       63696          256441         average\n",
      "##################### Tail #####################\n",
      "       task_response_id_x  match_id_x  evaluator_id_x  player_id  position_id  analysis_id  attribute_id  attribute_value  task_response_id_y  match_id_y  evaluator_id_y potential_label\n",
      "14121                5642       63032          151191    1909728            7     12825756          4357             67.0                5642       63032          151191     highlighted\n",
      "14122                5642       63032          151191    1909728            7     12825756          4407             78.0                5642       63032          151191     highlighted\n",
      "14123                5642       63032          151191    1909728            7     12825756          4408             67.0                5642       63032          151191     highlighted\n",
      "14124                5642       63032          151191    1909728            7     12825756          4423             67.0                5642       63032          151191     highlighted\n",
      "14125                5642       63032          151191    1909728            7     12825756          4426             78.0                5642       63032          151191     highlighted\n",
      "##################### NA #####################\n",
      "task_response_id_x    0\n",
      "match_id_x            0\n",
      "evaluator_id_x        0\n",
      "player_id             0\n",
      "position_id           0\n",
      "analysis_id           0\n",
      "attribute_id          0\n",
      "attribute_value       0\n",
      "task_response_id_y    0\n",
      "match_id_y            0\n",
      "evaluator_id_y        0\n",
      "potential_label       0\n",
      "dtype: int64\n"
     ]
    }
   ],
   "source": [
    "check_df(df)"
   ]
  },
  {
   "cell_type": "code",
   "execution_count": 9,
   "id": "cd717359",
   "metadata": {
    "execution": {
     "iopub.execute_input": "2024-10-27T22:47:38.629014Z",
     "iopub.status.busy": "2024-10-27T22:47:38.628309Z",
     "iopub.status.idle": "2024-10-27T22:47:38.634998Z",
     "shell.execute_reply": "2024-10-27T22:47:38.633946Z"
    },
    "papermill": {
     "duration": 0.025333,
     "end_time": "2024-10-27T22:47:38.637393",
     "exception": false,
     "start_time": "2024-10-27T22:47:38.612060",
     "status": "completed"
    },
    "tags": []
   },
   "outputs": [],
   "source": [
    "def cat_summary(dataframe, col_name, plot=False):\n",
    "    print(pd.DataFrame({col_name: dataframe[col_name].value_counts(),\n",
    "                        \"Ratio\": 100 * dataframe[col_name].value_counts() / len(dataframe)}))\n",
    "    print(\"##########################################\")\n",
    "    if plot:\n",
    "        sns.countplot(x=dataframe[col_name], data=dataframe)\n",
    "        plt.show(block=True)"
   ]
  },
  {
   "cell_type": "code",
   "execution_count": 10,
   "id": "89b4e432",
   "metadata": {
    "execution": {
     "iopub.execute_input": "2024-10-27T22:47:38.669650Z",
     "iopub.status.busy": "2024-10-27T22:47:38.668537Z",
     "iopub.status.idle": "2024-10-27T22:47:38.675897Z",
     "shell.execute_reply": "2024-10-27T22:47:38.674974Z"
    },
    "papermill": {
     "duration": 0.026014,
     "end_time": "2024-10-27T22:47:38.678373",
     "exception": false,
     "start_time": "2024-10-27T22:47:38.652359",
     "status": "completed"
    },
    "tags": []
   },
   "outputs": [],
   "source": [
    "\n",
    "def num_summary(dataframe, numerical_col, plot=False):\n",
    "    quantiles = [0.05, 0.10, 0.20, 0.30, 0.40, 0.50, 0.60, 0.70, 0.80, 0.90, 0.95, 0.99]\n",
    "    print(dataframe[numerical_col].describe(quantiles).T)\n",
    "\n",
    "    if plot:\n",
    "        dataframe[numerical_col].hist(bins=20)\n",
    "        plt.xlabel(numerical_col)\n",
    "        plt.title(numerical_col)\n",
    "        plt.show(block=True)\n"
   ]
  },
  {
   "cell_type": "code",
   "execution_count": 11,
   "id": "1e07e1bf",
   "metadata": {
    "execution": {
     "iopub.execute_input": "2024-10-27T22:47:38.710510Z",
     "iopub.status.busy": "2024-10-27T22:47:38.709551Z",
     "iopub.status.idle": "2024-10-27T22:47:38.715488Z",
     "shell.execute_reply": "2024-10-27T22:47:38.714476Z"
    },
    "papermill": {
     "duration": 0.024559,
     "end_time": "2024-10-27T22:47:38.717794",
     "exception": false,
     "start_time": "2024-10-27T22:47:38.693235",
     "status": "completed"
    },
    "tags": []
   },
   "outputs": [],
   "source": [
    "\n",
    "def target_summary_with_num(dataframe, target, numerical_col):\n",
    "    print(dataframe.groupby(target).agg({numerical_col: \"mean\"}), end=\"\\n\\n\\n\")"
   ]
  },
  {
   "cell_type": "code",
   "execution_count": 12,
   "id": "f45d58fd",
   "metadata": {
    "execution": {
     "iopub.execute_input": "2024-10-27T22:47:38.749777Z",
     "iopub.status.busy": "2024-10-27T22:47:38.748736Z",
     "iopub.status.idle": "2024-10-27T22:47:38.755130Z",
     "shell.execute_reply": "2024-10-27T22:47:38.753979Z"
    },
    "papermill": {
     "duration": 0.025109,
     "end_time": "2024-10-27T22:47:38.757700",
     "exception": false,
     "start_time": "2024-10-27T22:47:38.732591",
     "status": "completed"
    },
    "tags": []
   },
   "outputs": [],
   "source": [
    "\n",
    "def target_summary_with_cat(dataframe, target, categorical_col):\n",
    "    print(pd.DataFrame({\"TARGET_MEAN\": dataframe.groupby(categorical_col)[target].mean()}), end=\"\\n\\n\\n\")\n"
   ]
  },
  {
   "cell_type": "code",
   "execution_count": 13,
   "id": "b10d11e7",
   "metadata": {
    "execution": {
     "iopub.execute_input": "2024-10-27T22:47:38.788871Z",
     "iopub.status.busy": "2024-10-27T22:47:38.788487Z",
     "iopub.status.idle": "2024-10-27T22:47:38.795056Z",
     "shell.execute_reply": "2024-10-27T22:47:38.793993Z"
    },
    "papermill": {
     "duration": 0.025099,
     "end_time": "2024-10-27T22:47:38.797460",
     "exception": false,
     "start_time": "2024-10-27T22:47:38.772361",
     "status": "completed"
    },
    "tags": []
   },
   "outputs": [],
   "source": [
    "def correlation_matrix(df, cols):\n",
    "    fig = plt.gcf()\n",
    "    fig.set_size_inches(10, 8)\n",
    "    plt.xticks(fontsize=10)\n",
    "    plt.yticks(fontsize=10)\n",
    "    fig = sns.heatmap(df[cols].corr(), annot=True, linewidths=0.5, annot_kws={'size': 12}, linecolor='w', cmap='RdBu')\n",
    "    plt.show(block=True)\n"
   ]
  },
  {
   "cell_type": "code",
   "execution_count": 14,
   "id": "b66eecf0",
   "metadata": {
    "execution": {
     "iopub.execute_input": "2024-10-27T22:47:38.828858Z",
     "iopub.status.busy": "2024-10-27T22:47:38.828417Z",
     "iopub.status.idle": "2024-10-27T22:47:38.847798Z",
     "shell.execute_reply": "2024-10-27T22:47:38.846904Z"
    },
    "papermill": {
     "duration": 0.038039,
     "end_time": "2024-10-27T22:47:38.850317",
     "exception": false,
     "start_time": "2024-10-27T22:47:38.812278",
     "status": "completed"
    },
    "tags": []
   },
   "outputs": [],
   "source": [
    "\n",
    "def grab_col_names(dataframe, cat_th=10, car_th=20):\n",
    "    \"\"\"\n",
    "\n",
    "    Veri setindeki kategorik, numerik ve kategorik fakat kardinal değişkenlerin isimlerini verir.\n",
    "    Not: Kategorik değişkenlerin içerisine numerik görünümlü kategorik değişkenler de dahildir.\n",
    "\n",
    "    Parameters\n",
    "    ------\n",
    "        dataframe: dataframe\n",
    "                Değişken isimleri alınmak istenilen dataframe\n",
    "        cat_th: int, optional\n",
    "                numerik fakat kategorik olan değişkenler için sınıf eşik değeri\n",
    "        car_th: int, optinal\n",
    "                kategorik fakat kardinal değişkenler için sınıf eşik değeri\n",
    "\n",
    "    Returns\n",
    "    ------\n",
    "        cat_cols: list\n",
    "                Kategorik değişken listesi\n",
    "        num_cols: list\n",
    "                Numerik değişken listesi\n",
    "        cat_but_car: list\n",
    "                Kategorik görünümlü kardinal değişken listesi\n",
    "\n",
    "    Examples\n",
    "    ------\n",
    "        import seaborn as sns\n",
    "        df = sns.load_dataset(\"iris\")\n",
    "        print(grab_col_names(df))\n",
    "\n",
    "\n",
    "    Notes\n",
    "    ------\n",
    "        cat_cols + num_cols + cat_but_car = toplam değişken sayısı\n",
    "        num_but_cat cat_cols'un içerisinde.\n",
    "        Return olan 3 liste toplamı toplam değişken sayısına eşittir: cat_cols + num_cols + cat_but_car = değişken sayısı\n",
    "\n",
    "    \"\"\"\n",
    "\n",
    "    # cat_cols, cat_but_car\n",
    "    cat_cols = [col for col in dataframe.columns if dataframe[col].dtypes == \"O\"]\n",
    "    num_but_cat = [col for col in dataframe.columns if dataframe[col].nunique() < cat_th and\n",
    "                   dataframe[col].dtypes != \"O\"]\n",
    "    cat_but_car = [col for col in dataframe.columns if dataframe[col].nunique() > car_th and\n",
    "                   dataframe[col].dtypes == \"O\"]\n",
    "    cat_cols = cat_cols + num_but_cat\n",
    "    cat_cols = [col for col in cat_cols if col not in cat_but_car]\n",
    "\n",
    "    # num_cols\n",
    "    num_cols = [col for col in dataframe.columns if dataframe[col].dtypes != \"O\"]\n",
    "    num_cols = [col for col in num_cols if col not in num_but_cat]\n",
    "\n",
    "    # print(f\"Observations: {dataframe.shape[0]}\")\n",
    "    # print(f\"Variables: {dataframe.shape[1]}\")\n",
    "    # print(f'cat_cols: {len(cat_cols)}')\n",
    "    # print(f'num_cols: {len(num_cols)}')\n",
    "    # print(f'cat_but_car: {len(cat_but_car)}')\n",
    "    # print(f'num_but_cat: {len(num_but_cat)}')\n",
    "    return cat_cols, num_cols, cat_but_car\n",
    "\n",
    "cat_cols, num_cols, cat_but_car = grab_col_names(df, cat_th=5, car_th=20)"
   ]
  },
  {
   "cell_type": "code",
   "execution_count": 15,
   "id": "7292c94d",
   "metadata": {
    "execution": {
     "iopub.execute_input": "2024-10-27T22:47:38.885557Z",
     "iopub.status.busy": "2024-10-27T22:47:38.884956Z",
     "iopub.status.idle": "2024-10-27T22:47:38.901869Z",
     "shell.execute_reply": "2024-10-27T22:47:38.899903Z"
    },
    "papermill": {
     "duration": 0.040521,
     "end_time": "2024-10-27T22:47:38.905671",
     "exception": false,
     "start_time": "2024-10-27T22:47:38.865150",
     "status": "completed"
    },
    "tags": []
   },
   "outputs": [
    {
     "name": "stdout",
     "output_type": "stream",
     "text": [
      "                 potential_label      Ratio\n",
      "potential_label                            \n",
      "average                    11018  77.998018\n",
      "highlighted                 2972  21.039218\n",
      "below_average                136   0.962764\n",
      "##########################################\n"
     ]
    }
   ],
   "source": [
    "for col in cat_cols:\n",
    "    cat_summary(df, col)"
   ]
  },
  {
   "cell_type": "code",
   "execution_count": 16,
   "id": "9315faaa",
   "metadata": {
    "execution": {
     "iopub.execute_input": "2024-10-27T22:47:38.946336Z",
     "iopub.status.busy": "2024-10-27T22:47:38.945876Z",
     "iopub.status.idle": "2024-10-27T22:47:38.988619Z",
     "shell.execute_reply": "2024-10-27T22:47:38.986865Z"
    },
    "papermill": {
     "duration": 0.066447,
     "end_time": "2024-10-27T22:47:38.992174",
     "exception": false,
     "start_time": "2024-10-27T22:47:38.925727",
     "status": "completed"
    },
    "tags": []
   },
   "outputs": [
    {
     "name": "stdout",
     "output_type": "stream",
     "text": [
      "count    14126.000000\n",
      "mean      5243.755274\n",
      "std        266.058115\n",
      "min       4915.000000\n",
      "5%        4915.000000\n",
      "10%       4929.000000\n",
      "20%       4970.000000\n",
      "30%       5006.000000\n",
      "40%       5036.000000\n",
      "50%       5162.000000\n",
      "60%       5319.000000\n",
      "70%       5465.000000\n",
      "80%       5579.000000\n",
      "90%       5618.000000\n",
      "95%       5639.000000\n",
      "99%       5642.000000\n",
      "max       5642.000000\n",
      "Name: task_response_id_x, dtype: float64\n",
      "count    14126.000000\n",
      "mean     63250.680731\n",
      "std        619.566020\n",
      "min      60549.000000\n",
      "5%       61923.000000\n",
      "10%      62935.000000\n",
      "20%      62944.000000\n",
      "30%      63032.000000\n",
      "40%      63061.000000\n",
      "50%      63166.000000\n",
      "60%      63406.000000\n",
      "70%      63627.000000\n",
      "80%      63696.000000\n",
      "90%      64045.000000\n",
      "95%      64045.000000\n",
      "99%      64045.000000\n",
      "max      64045.000000\n",
      "Name: match_id_x, dtype: float64\n",
      "count     14126.000000\n",
      "mean     177615.493983\n",
      "std       44678.299853\n",
      "min      130478.000000\n",
      "5%       132337.000000\n",
      "10%      132337.000000\n",
      "20%      151191.000000\n",
      "30%      151191.000000\n",
      "40%      151191.000000\n",
      "50%      151191.000000\n",
      "60%      160289.000000\n",
      "70%      177676.000000\n",
      "80%      256441.000000\n",
      "90%      256441.000000\n",
      "95%      256441.000000\n",
      "99%      256441.000000\n",
      "max      256441.000000\n",
      "Name: evaluator_id_x, dtype: float64\n",
      "count    1.412600e+04\n",
      "mean     1.502585e+06\n",
      "std      1.979186e+05\n",
      "min      1.355710e+06\n",
      "5%       1.359355e+06\n",
      "10%      1.361061e+06\n",
      "20%      1.364697e+06\n",
      "30%      1.368187e+06\n",
      "40%      1.369397e+06\n",
      "50%      1.371159e+06\n",
      "60%      1.372696e+06\n",
      "70%      1.614690e+06\n",
      "80%      1.720473e+06\n",
      "90%      1.805970e+06\n",
      "95%      1.906234e+06\n",
      "99%      1.907347e+06\n",
      "max      1.909728e+06\n",
      "Name: player_id, dtype: float64\n",
      "count    14126.000000\n",
      "mean         5.385389\n",
      "std          2.883336\n",
      "min          1.000000\n",
      "5%           1.000000\n",
      "10%          2.000000\n",
      "20%          2.000000\n",
      "30%          3.000000\n",
      "40%          4.000000\n",
      "50%          6.000000\n",
      "60%          6.000000\n",
      "70%          7.000000\n",
      "80%          8.000000\n",
      "90%         10.000000\n",
      "95%         10.000000\n",
      "99%         10.000000\n",
      "max         10.000000\n",
      "Name: position_id, dtype: float64\n",
      "count    1.412600e+04\n",
      "mean     1.282233e+07\n",
      "std      2.651915e+03\n",
      "min      1.281848e+07\n",
      "5%       1.281851e+07\n",
      "10%      1.281875e+07\n",
      "20%      1.281919e+07\n",
      "30%      1.281987e+07\n",
      "40%      1.282080e+07\n",
      "50%      1.282222e+07\n",
      "60%      1.282368e+07\n",
      "70%      1.282473e+07\n",
      "80%      1.282530e+07\n",
      "90%      1.282552e+07\n",
      "95%      1.282572e+07\n",
      "99%      1.282576e+07\n",
      "max      1.282576e+07\n",
      "Name: analysis_id, dtype: float64\n",
      "count    14126.000000\n",
      "mean      4348.610435\n",
      "std         26.976606\n",
      "min       4322.000000\n",
      "5%        4323.000000\n",
      "10%       4325.000000\n",
      "20%       4328.000000\n",
      "30%       4332.000000\n",
      "40%       4339.000000\n",
      "50%       4342.000000\n",
      "60%       4348.000000\n",
      "70%       4351.000000\n",
      "80%       4355.000000\n",
      "90%       4407.000000\n",
      "95%       4423.000000\n",
      "99%       4426.000000\n",
      "max       4426.000000\n",
      "Name: attribute_id, dtype: float64\n",
      "count    14126.000000\n",
      "mean        56.361320\n",
      "std         15.569218\n",
      "min          1.000000\n",
      "5%          23.000000\n",
      "10%         34.000000\n",
      "20%         45.000000\n",
      "30%         45.000000\n",
      "40%         56.000000\n",
      "50%         56.000000\n",
      "60%         67.000000\n",
      "70%         67.000000\n",
      "80%         67.000000\n",
      "90%         78.000000\n",
      "95%         78.000000\n",
      "99%         78.000000\n",
      "max        100.000000\n",
      "Name: attribute_value, dtype: float64\n",
      "count    14126.000000\n",
      "mean      5243.755274\n",
      "std        266.058115\n",
      "min       4915.000000\n",
      "5%        4915.000000\n",
      "10%       4929.000000\n",
      "20%       4970.000000\n",
      "30%       5006.000000\n",
      "40%       5036.000000\n",
      "50%       5162.000000\n",
      "60%       5319.000000\n",
      "70%       5465.000000\n",
      "80%       5579.000000\n",
      "90%       5618.000000\n",
      "95%       5639.000000\n",
      "99%       5642.000000\n",
      "max       5642.000000\n",
      "Name: task_response_id_y, dtype: float64\n",
      "count    14126.000000\n",
      "mean     63250.680731\n",
      "std        619.566020\n",
      "min      60549.000000\n",
      "5%       61923.000000\n",
      "10%      62935.000000\n",
      "20%      62944.000000\n",
      "30%      63032.000000\n",
      "40%      63061.000000\n",
      "50%      63166.000000\n",
      "60%      63406.000000\n",
      "70%      63627.000000\n",
      "80%      63696.000000\n",
      "90%      64045.000000\n",
      "95%      64045.000000\n",
      "99%      64045.000000\n",
      "max      64045.000000\n",
      "Name: match_id_y, dtype: float64\n",
      "count     14126.000000\n",
      "mean     177615.493983\n",
      "std       44678.299853\n",
      "min      130478.000000\n",
      "5%       132337.000000\n",
      "10%      132337.000000\n",
      "20%      151191.000000\n",
      "30%      151191.000000\n",
      "40%      151191.000000\n",
      "50%      151191.000000\n",
      "60%      160289.000000\n",
      "70%      177676.000000\n",
      "80%      256441.000000\n",
      "90%      256441.000000\n",
      "95%      256441.000000\n",
      "99%      256441.000000\n",
      "max      256441.000000\n",
      "Name: evaluator_id_y, dtype: float64\n"
     ]
    }
   ],
   "source": [
    "for col in num_cols:\n",
    "    num_summary(df, col)"
   ]
  },
  {
   "cell_type": "code",
   "execution_count": 17,
   "id": "afe45004",
   "metadata": {
    "execution": {
     "iopub.execute_input": "2024-10-27T22:47:39.029238Z",
     "iopub.status.busy": "2024-10-27T22:47:39.028782Z",
     "iopub.status.idle": "2024-10-27T22:47:39.100474Z",
     "shell.execute_reply": "2024-10-27T22:47:39.099120Z"
    },
    "papermill": {
     "duration": 0.093716,
     "end_time": "2024-10-27T22:47:39.103794",
     "exception": false,
     "start_time": "2024-10-27T22:47:39.010078",
     "status": "completed"
    },
    "tags": []
   },
   "outputs": [
    {
     "data": {
      "text/html": [
       "<div>\n",
       "<style scoped>\n",
       "    .dataframe tbody tr th:only-of-type {\n",
       "        vertical-align: middle;\n",
       "    }\n",
       "\n",
       "    .dataframe tbody tr th {\n",
       "        vertical-align: top;\n",
       "    }\n",
       "\n",
       "    .dataframe thead th {\n",
       "        text-align: right;\n",
       "    }\n",
       "</style>\n",
       "<table border=\"1\" class=\"dataframe\">\n",
       "  <thead>\n",
       "    <tr style=\"text-align: right;\">\n",
       "      <th></th>\n",
       "      <th>count</th>\n",
       "      <th>mean</th>\n",
       "      <th>std</th>\n",
       "      <th>min</th>\n",
       "      <th>25%</th>\n",
       "      <th>50%</th>\n",
       "      <th>75%</th>\n",
       "      <th>max</th>\n",
       "    </tr>\n",
       "  </thead>\n",
       "  <tbody>\n",
       "    <tr>\n",
       "      <th>task_response_id_x</th>\n",
       "      <td>14126.0</td>\n",
       "      <td>5.243755e+03</td>\n",
       "      <td>266.058115</td>\n",
       "      <td>4915.0</td>\n",
       "      <td>5003.0</td>\n",
       "      <td>5162.0</td>\n",
       "      <td>5524.0</td>\n",
       "      <td>5642.0</td>\n",
       "    </tr>\n",
       "    <tr>\n",
       "      <th>match_id_x</th>\n",
       "      <td>14126.0</td>\n",
       "      <td>6.325068e+04</td>\n",
       "      <td>619.566020</td>\n",
       "      <td>60549.0</td>\n",
       "      <td>62988.0</td>\n",
       "      <td>63166.0</td>\n",
       "      <td>63627.0</td>\n",
       "      <td>64045.0</td>\n",
       "    </tr>\n",
       "    <tr>\n",
       "      <th>evaluator_id_x</th>\n",
       "      <td>14126.0</td>\n",
       "      <td>1.776155e+05</td>\n",
       "      <td>44678.299853</td>\n",
       "      <td>130478.0</td>\n",
       "      <td>151191.0</td>\n",
       "      <td>151191.0</td>\n",
       "      <td>186987.0</td>\n",
       "      <td>256441.0</td>\n",
       "    </tr>\n",
       "    <tr>\n",
       "      <th>player_id</th>\n",
       "      <td>14126.0</td>\n",
       "      <td>1.502585e+06</td>\n",
       "      <td>197918.601643</td>\n",
       "      <td>1355710.0</td>\n",
       "      <td>1367560.0</td>\n",
       "      <td>1371159.0</td>\n",
       "      <td>1717709.0</td>\n",
       "      <td>1909728.0</td>\n",
       "    </tr>\n",
       "    <tr>\n",
       "      <th>position_id</th>\n",
       "      <td>14126.0</td>\n",
       "      <td>5.385389e+00</td>\n",
       "      <td>2.883336</td>\n",
       "      <td>1.0</td>\n",
       "      <td>2.0</td>\n",
       "      <td>6.0</td>\n",
       "      <td>8.0</td>\n",
       "      <td>10.0</td>\n",
       "    </tr>\n",
       "    <tr>\n",
       "      <th>analysis_id</th>\n",
       "      <td>14126.0</td>\n",
       "      <td>1.282233e+07</td>\n",
       "      <td>2651.914684</td>\n",
       "      <td>12818481.0</td>\n",
       "      <td>12819662.0</td>\n",
       "      <td>12822225.0</td>\n",
       "      <td>12825048.0</td>\n",
       "      <td>12825764.0</td>\n",
       "    </tr>\n",
       "    <tr>\n",
       "      <th>attribute_id</th>\n",
       "      <td>14126.0</td>\n",
       "      <td>4.348610e+03</td>\n",
       "      <td>26.976606</td>\n",
       "      <td>4322.0</td>\n",
       "      <td>4330.0</td>\n",
       "      <td>4342.0</td>\n",
       "      <td>4353.0</td>\n",
       "      <td>4426.0</td>\n",
       "    </tr>\n",
       "    <tr>\n",
       "      <th>attribute_value</th>\n",
       "      <td>14126.0</td>\n",
       "      <td>5.636132e+01</td>\n",
       "      <td>15.569218</td>\n",
       "      <td>1.0</td>\n",
       "      <td>45.0</td>\n",
       "      <td>56.0</td>\n",
       "      <td>67.0</td>\n",
       "      <td>100.0</td>\n",
       "    </tr>\n",
       "    <tr>\n",
       "      <th>task_response_id_y</th>\n",
       "      <td>14126.0</td>\n",
       "      <td>5.243755e+03</td>\n",
       "      <td>266.058115</td>\n",
       "      <td>4915.0</td>\n",
       "      <td>5003.0</td>\n",
       "      <td>5162.0</td>\n",
       "      <td>5524.0</td>\n",
       "      <td>5642.0</td>\n",
       "    </tr>\n",
       "    <tr>\n",
       "      <th>match_id_y</th>\n",
       "      <td>14126.0</td>\n",
       "      <td>6.325068e+04</td>\n",
       "      <td>619.566020</td>\n",
       "      <td>60549.0</td>\n",
       "      <td>62988.0</td>\n",
       "      <td>63166.0</td>\n",
       "      <td>63627.0</td>\n",
       "      <td>64045.0</td>\n",
       "    </tr>\n",
       "    <tr>\n",
       "      <th>evaluator_id_y</th>\n",
       "      <td>14126.0</td>\n",
       "      <td>1.776155e+05</td>\n",
       "      <td>44678.299853</td>\n",
       "      <td>130478.0</td>\n",
       "      <td>151191.0</td>\n",
       "      <td>151191.0</td>\n",
       "      <td>186987.0</td>\n",
       "      <td>256441.0</td>\n",
       "    </tr>\n",
       "  </tbody>\n",
       "</table>\n",
       "</div>"
      ],
      "text/plain": [
       "                      count          mean            std         min         25%         50%         75%         max\n",
       "task_response_id_x  14126.0  5.243755e+03     266.058115      4915.0      5003.0      5162.0      5524.0      5642.0\n",
       "match_id_x          14126.0  6.325068e+04     619.566020     60549.0     62988.0     63166.0     63627.0     64045.0\n",
       "evaluator_id_x      14126.0  1.776155e+05   44678.299853    130478.0    151191.0    151191.0    186987.0    256441.0\n",
       "player_id           14126.0  1.502585e+06  197918.601643   1355710.0   1367560.0   1371159.0   1717709.0   1909728.0\n",
       "position_id         14126.0  5.385389e+00       2.883336         1.0         2.0         6.0         8.0        10.0\n",
       "analysis_id         14126.0  1.282233e+07    2651.914684  12818481.0  12819662.0  12822225.0  12825048.0  12825764.0\n",
       "attribute_id        14126.0  4.348610e+03      26.976606      4322.0      4330.0      4342.0      4353.0      4426.0\n",
       "attribute_value     14126.0  5.636132e+01      15.569218         1.0        45.0        56.0        67.0       100.0\n",
       "task_response_id_y  14126.0  5.243755e+03     266.058115      4915.0      5003.0      5162.0      5524.0      5642.0\n",
       "match_id_y          14126.0  6.325068e+04     619.566020     60549.0     62988.0     63166.0     63627.0     64045.0\n",
       "evaluator_id_y      14126.0  1.776155e+05   44678.299853    130478.0    151191.0    151191.0    186987.0    256441.0"
      ]
     },
     "execution_count": 17,
     "metadata": {},
     "output_type": "execute_result"
    }
   ],
   "source": [
    "df[num_cols].describe().T"
   ]
  },
  {
   "cell_type": "code",
   "execution_count": 18,
   "id": "7c481fcb",
   "metadata": {
    "execution": {
     "iopub.execute_input": "2024-10-27T22:47:39.149844Z",
     "iopub.status.busy": "2024-10-27T22:47:39.148878Z",
     "iopub.status.idle": "2024-10-27T22:47:39.932336Z",
     "shell.execute_reply": "2024-10-27T22:47:39.931125Z"
    },
    "papermill": {
     "duration": 0.806823,
     "end_time": "2024-10-27T22:47:39.936719",
     "exception": false,
     "start_time": "2024-10-27T22:47:39.129896",
     "status": "completed"
    },
    "tags": []
   },
   "outputs": [
    {
     "data": {
      "image/png": "[encoded data removed]",
      "text/plain": [
       "<Figure size 1000x800 with 2 Axes>"
      ]
     },
     "metadata": {},
     "output_type": "display_data"
    }
   ],
   "source": [
    "#Sayısal değişkenkerin birbirleri ile korelasyonu\n",
    "correlation_matrix(df, num_cols)\n"
   ]
  },
  {
   "cell_type": "code",
   "execution_count": 19,
   "id": "d500a761",
   "metadata": {
    "execution": {
     "iopub.execute_input": "2024-10-27T22:47:39.977296Z",
     "iopub.status.busy": "2024-10-27T22:47:39.976879Z",
     "iopub.status.idle": "2024-10-27T22:47:39.990992Z",
     "shell.execute_reply": "2024-10-27T22:47:39.989253Z"
    },
    "papermill": {
     "duration": 0.036131,
     "end_time": "2024-10-27T22:47:39.993466",
     "exception": false,
     "start_time": "2024-10-27T22:47:39.957335",
     "status": "completed"
    },
    "tags": []
   },
   "outputs": [
    {
     "name": "stdout",
     "output_type": "stream",
     "text": [
      "<class 'pandas.core.frame.DataFrame'>\n",
      "RangeIndex: 14126 entries, 0 to 14125\n",
      "Data columns (total 12 columns):\n",
      " #   Column              Non-Null Count  Dtype  \n",
      "---  ------              --------------  -----  \n",
      " 0   task_response_id_x  14126 non-null  int64  \n",
      " 1   match_id_x          14126 non-null  int64  \n",
      " 2   evaluator_id_x      14126 non-null  int64  \n",
      " 3   player_id           14126 non-null  int64  \n",
      " 4   position_id         14126 non-null  int64  \n",
      " 5   analysis_id         14126 non-null  int64  \n",
      " 6   attribute_id        14126 non-null  int64  \n",
      " 7   attribute_value     14126 non-null  float64\n",
      " 8   task_response_id_y  14126 non-null  int64  \n",
      " 9   match_id_y          14126 non-null  int64  \n",
      " 10  evaluator_id_y      14126 non-null  int64  \n",
      " 11  potential_label     14126 non-null  object \n",
      "dtypes: float64(1), int64(10), object(1)\n",
      "memory usage: 1.3+ MB\n"
     ]
    }
   ],
   "source": [
    "df.info()"
   ]
  },
  {
   "cell_type": "code",
   "execution_count": 20,
   "id": "30936704",
   "metadata": {
    "execution": {
     "iopub.execute_input": "2024-10-27T22:47:40.032807Z",
     "iopub.status.busy": "2024-10-27T22:47:40.032373Z",
     "iopub.status.idle": "2024-10-27T22:47:40.086107Z",
     "shell.execute_reply": "2024-10-27T22:47:40.084828Z"
    },
    "papermill": {
     "duration": 0.076749,
     "end_time": "2024-10-27T22:47:40.088821",
     "exception": false,
     "start_time": "2024-10-27T22:47:40.012072",
     "status": "completed"
    },
    "tags": []
   },
   "outputs": [
    {
     "name": "stdout",
     "output_type": "stream",
     "text": [
      "                 task_response_id_x\n",
      "potential_label                    \n",
      "average                 5254.068070\n",
      "below_average           5149.250000\n",
      "highlighted             5209.847577\n",
      "\n",
      "\n",
      "                   match_id_x\n",
      "potential_label              \n",
      "average          63254.101380\n",
      "below_average    63213.750000\n",
      "highlighted      63239.689435\n",
      "\n",
      "\n",
      "                 evaluator_id_x\n",
      "potential_label                \n",
      "average           176262.813487\n",
      "below_average     147764.000000\n",
      "highlighted       183996.260094\n",
      "\n",
      "\n",
      "                    player_id\n",
      "potential_label              \n",
      "average          1.496886e+06\n",
      "below_average    1.470573e+06\n",
      "highlighted      1.525180e+06\n",
      "\n",
      "\n",
      "                 position_id\n",
      "potential_label             \n",
      "average             5.218370\n",
      "below_average       6.250000\n",
      "highlighted         5.965007\n",
      "\n",
      "\n",
      "                  analysis_id\n",
      "potential_label              \n",
      "average          1.282244e+07\n",
      "below_average    1.282118e+07\n",
      "highlighted      1.282199e+07\n",
      "\n",
      "\n",
      "                 attribute_id\n",
      "potential_label              \n",
      "average           4348.605918\n",
      "below_average     4348.676471\n",
      "highlighted       4348.624159\n",
      "\n",
      "\n",
      "                 attribute_value\n",
      "potential_label                 \n",
      "average                55.838265\n",
      "below_average          37.720588\n",
      "highlighted            59.153432\n",
      "\n",
      "\n",
      "                 task_response_id_y\n",
      "potential_label                    \n",
      "average                 5259.590761\n",
      "below_average           5149.250000\n",
      "highlighted             5189.373486\n",
      "\n",
      "\n",
      "                   match_id_y\n",
      "potential_label              \n",
      "average          63260.688147\n",
      "below_average    63213.750000\n",
      "highlighted      63215.270525\n",
      "\n",
      "\n",
      "                 evaluator_id_y\n",
      "potential_label                \n",
      "average           177550.678435\n",
      "below_average     147764.000000\n",
      "highlighted       179221.799798\n",
      "\n",
      "\n"
     ]
    }
   ],
   "source": [
    "\n",
    "# Target ile sayısal değişkenlerin incelemesi\n",
    "for col in num_cols:\n",
    "    target_summary_with_num(df, \"potential_label\", col)"
   ]
  },
  {
   "cell_type": "markdown",
   "id": "b3ac4ec6",
   "metadata": {
    "papermill": {
     "duration": 0.018636,
     "end_time": "2024-10-27T22:47:40.126854",
     "exception": false,
     "start_time": "2024-10-27T22:47:40.108218",
     "status": "completed"
    },
    "tags": []
   },
   "source": [
    "Aykırı Gözlem İnceleme\n"
   ]
  },
  {
   "cell_type": "code",
   "execution_count": 21,
   "id": "34e4ed7b",
   "metadata": {
    "execution": {
     "iopub.execute_input": "2024-10-27T22:47:40.166121Z",
     "iopub.status.busy": "2024-10-27T22:47:40.165648Z",
     "iopub.status.idle": "2024-10-27T22:47:40.172143Z",
     "shell.execute_reply": "2024-10-27T22:47:40.171089Z"
    },
    "papermill": {
     "duration": 0.028539,
     "end_time": "2024-10-27T22:47:40.174399",
     "exception": false,
     "start_time": "2024-10-27T22:47:40.145860",
     "status": "completed"
    },
    "tags": []
   },
   "outputs": [],
   "source": [
    "\n",
    "def outlier_thresholds(dataframe, col_name, q1=0.25, q3=0.75):\n",
    "    quartile1 = dataframe[col_name].quantile(q1)\n",
    "    quartile3 = dataframe[col_name].quantile(q3)\n",
    "    interquantile_range = quartile3 - quartile1\n",
    "    up_limit = quartile3 + 1.5 * interquantile_range\n",
    "    low_limit = quartile1 - 1.5 * interquantile_range\n",
    "    return low_limit, up_limit"
   ]
  },
  {
   "cell_type": "code",
   "execution_count": 22,
   "id": "f73b7bc5",
   "metadata": {
    "execution": {
     "iopub.execute_input": "2024-10-27T22:47:40.214026Z",
     "iopub.status.busy": "2024-10-27T22:47:40.213046Z",
     "iopub.status.idle": "2024-10-27T22:47:40.219088Z",
     "shell.execute_reply": "2024-10-27T22:47:40.218012Z"
    },
    "papermill": {
     "duration": 0.028242,
     "end_time": "2024-10-27T22:47:40.221327",
     "exception": false,
     "start_time": "2024-10-27T22:47:40.193085",
     "status": "completed"
    },
    "tags": []
   },
   "outputs": [],
   "source": [
    "\n",
    "def replace_with_thresholds(dataframe, variable):\n",
    "    low_limit, up_limit = outlier_thresholds(dataframe, variable)\n",
    "    dataframe.loc[(dataframe[variable] < low_limit), variable] = low_limit\n",
    "    dataframe.loc[(dataframe[variable] > up_limit), variable] = up_limit"
   ]
  },
  {
   "cell_type": "code",
   "execution_count": 23,
   "id": "debaa299",
   "metadata": {
    "execution": {
     "iopub.execute_input": "2024-10-27T22:47:40.259851Z",
     "iopub.status.busy": "2024-10-27T22:47:40.259432Z",
     "iopub.status.idle": "2024-10-27T22:47:40.265989Z",
     "shell.execute_reply": "2024-10-27T22:47:40.264912Z"
    },
    "papermill": {
     "duration": 0.028696,
     "end_time": "2024-10-27T22:47:40.268398",
     "exception": false,
     "start_time": "2024-10-27T22:47:40.239702",
     "status": "completed"
    },
    "tags": []
   },
   "outputs": [],
   "source": [
    "\n",
    "def check_outlier(dataframe, col_name, q1=0.05, q3=0.95):\n",
    "    low_limit, up_limit = outlier_thresholds(dataframe, col_name, q1, q3)\n",
    "    if dataframe[(dataframe[col_name] > up_limit) | (dataframe[col_name] < low_limit)].any(axis=None):\n",
    "        return True\n",
    "    else:\n",
    "        return False\n"
   ]
  },
  {
   "cell_type": "code",
   "execution_count": 24,
   "id": "4706ed5c",
   "metadata": {
    "execution": {
     "iopub.execute_input": "2024-10-27T22:47:40.307269Z",
     "iopub.status.busy": "2024-10-27T22:47:40.306852Z",
     "iopub.status.idle": "2024-10-27T22:47:40.345056Z",
     "shell.execute_reply": "2024-10-27T22:47:40.344001Z"
    },
    "papermill": {
     "duration": 0.060663,
     "end_time": "2024-10-27T22:47:40.347788",
     "exception": false,
     "start_time": "2024-10-27T22:47:40.287125",
     "status": "completed"
    },
    "tags": []
   },
   "outputs": [
    {
     "name": "stdout",
     "output_type": "stream",
     "text": [
      "task_response_id_x : False\n",
      "match_id_x : False\n",
      "evaluator_id_x : False\n",
      "player_id : False\n",
      "position_id : False\n",
      "analysis_id : False\n",
      "attribute_id : False\n",
      "attribute_value : False\n",
      "task_response_id_y : False\n",
      "match_id_y : False\n",
      "evaluator_id_y : False\n"
     ]
    }
   ],
   "source": [
    "for col in num_cols:\n",
    "    print(col,\":\",check_outlier(df,col))"
   ]
  },
  {
   "cell_type": "code",
   "execution_count": 25,
   "id": "fb316a50",
   "metadata": {
    "execution": {
     "iopub.execute_input": "2024-10-27T22:47:40.387747Z",
     "iopub.status.busy": "2024-10-27T22:47:40.386437Z",
     "iopub.status.idle": "2024-10-27T22:47:40.400056Z",
     "shell.execute_reply": "2024-10-27T22:47:40.398832Z"
    },
    "papermill": {
     "duration": 0.036082,
     "end_time": "2024-10-27T22:47:40.402492",
     "exception": false,
     "start_time": "2024-10-27T22:47:40.366410",
     "status": "completed"
    },
    "tags": []
   },
   "outputs": [
    {
     "name": "stdout",
     "output_type": "stream",
     "text": [
      "<class 'pandas.core.frame.DataFrame'>\n",
      "RangeIndex: 14126 entries, 0 to 14125\n",
      "Data columns (total 12 columns):\n",
      " #   Column              Non-Null Count  Dtype  \n",
      "---  ------              --------------  -----  \n",
      " 0   task_response_id_x  14126 non-null  int64  \n",
      " 1   match_id_x          14126 non-null  int64  \n",
      " 2   evaluator_id_x      14126 non-null  int64  \n",
      " 3   player_id           14126 non-null  int64  \n",
      " 4   position_id         14126 non-null  int64  \n",
      " 5   analysis_id         14126 non-null  int64  \n",
      " 6   attribute_id        14126 non-null  int64  \n",
      " 7   attribute_value     14126 non-null  float64\n",
      " 8   task_response_id_y  14126 non-null  int64  \n",
      " 9   match_id_y          14126 non-null  int64  \n",
      " 10  evaluator_id_y      14126 non-null  int64  \n",
      " 11  potential_label     14126 non-null  object \n",
      "dtypes: float64(1), int64(10), object(1)\n",
      "memory usage: 1.3+ MB\n"
     ]
    }
   ],
   "source": [
    "df.info()"
   ]
  },
  {
   "cell_type": "code",
   "execution_count": 26,
   "id": "1398670b",
   "metadata": {
    "execution": {
     "iopub.execute_input": "2024-10-27T22:47:40.441974Z",
     "iopub.status.busy": "2024-10-27T22:47:40.441270Z",
     "iopub.status.idle": "2024-10-27T22:47:40.452957Z",
     "shell.execute_reply": "2024-10-27T22:47:40.451960Z"
    },
    "papermill": {
     "duration": 0.033897,
     "end_time": "2024-10-27T22:47:40.455240",
     "exception": false,
     "start_time": "2024-10-27T22:47:40.421343",
     "status": "completed"
    },
    "tags": []
   },
   "outputs": [
    {
     "data": {
      "text/plain": [
       "position_id\n",
       "2     2686\n",
       "6     1870\n",
       "10    1462\n",
       "8     1462\n",
       "9     1190\n",
       "3     1190\n",
       "5     1156\n",
       "7     1122\n",
       "4     1088\n",
       "Name: count, dtype: int64"
      ]
     },
     "execution_count": 26,
     "metadata": {},
     "output_type": "execute_result"
    }
   ],
   "source": [
    "## position_id içerisindeki Kaleci (1) sınıfını veri setinden kaldırınız.##\n",
    "\n",
    "df = df[df['position_id'] != 1]\n",
    "df['position_id'].value_counts()"
   ]
  },
  {
   "cell_type": "code",
   "execution_count": 27,
   "id": "c882939e",
   "metadata": {
    "execution": {
     "iopub.execute_input": "2024-10-27T22:47:40.494679Z",
     "iopub.status.busy": "2024-10-27T22:47:40.494286Z",
     "iopub.status.idle": "2024-10-27T22:47:40.507850Z",
     "shell.execute_reply": "2024-10-27T22:47:40.506656Z"
    },
    "papermill": {
     "duration": 0.036033,
     "end_time": "2024-10-27T22:47:40.510199",
     "exception": false,
     "start_time": "2024-10-27T22:47:40.474166",
     "status": "completed"
    },
    "tags": []
   },
   "outputs": [
    {
     "name": "stdout",
     "output_type": "stream",
     "text": [
      "<class 'pandas.core.frame.DataFrame'>\n",
      "Index: 13226 entries, 0 to 14125\n",
      "Data columns (total 12 columns):\n",
      " #   Column              Non-Null Count  Dtype  \n",
      "---  ------              --------------  -----  \n",
      " 0   task_response_id_x  13226 non-null  int64  \n",
      " 1   match_id_x          13226 non-null  int64  \n",
      " 2   evaluator_id_x      13226 non-null  int64  \n",
      " 3   player_id           13226 non-null  int64  \n",
      " 4   position_id         13226 non-null  int64  \n",
      " 5   analysis_id         13226 non-null  int64  \n",
      " 6   attribute_id        13226 non-null  int64  \n",
      " 7   attribute_value     13226 non-null  float64\n",
      " 8   task_response_id_y  13226 non-null  int64  \n",
      " 9   match_id_y          13226 non-null  int64  \n",
      " 10  evaluator_id_y      13226 non-null  int64  \n",
      " 11  potential_label     13226 non-null  object \n",
      "dtypes: float64(1), int64(10), object(1)\n",
      "memory usage: 1.3+ MB\n"
     ]
    }
   ],
   "source": [
    "df.info()"
   ]
  },
  {
   "cell_type": "code",
   "execution_count": 28,
   "id": "0affab6a",
   "metadata": {
    "execution": {
     "iopub.execute_input": "2024-10-27T22:47:40.551362Z",
     "iopub.status.busy": "2024-10-27T22:47:40.550913Z",
     "iopub.status.idle": "2024-10-27T22:47:40.566667Z",
     "shell.execute_reply": "2024-10-27T22:47:40.565677Z"
    },
    "papermill": {
     "duration": 0.03911,
     "end_time": "2024-10-27T22:47:40.569041",
     "exception": false,
     "start_time": "2024-10-27T22:47:40.529931",
     "status": "completed"
    },
    "tags": []
   },
   "outputs": [
    {
     "data": {
      "text/plain": [
       "potential_label\n",
       "average        10268\n",
       "highlighted     2822\n",
       "Name: count, dtype: int64"
      ]
     },
     "execution_count": 28,
     "metadata": {},
     "output_type": "execute_result"
    }
   ],
   "source": [
    "\n",
    "##  potential_label içerisindeki below_average sınıfını veri setinden kaldırınız.( below_average sınıfı tüm verisetinin %1'ini oluşturur)\n",
    "\n",
    "df=df[df[\"potential_label\"]!=\"below_average\"]\n",
    "df[\"potential_label\"].value_counts()"
   ]
  },
  {
   "cell_type": "code",
   "execution_count": 29,
   "id": "aa1d4aca",
   "metadata": {
    "execution": {
     "iopub.execute_input": "2024-10-27T22:47:40.610199Z",
     "iopub.status.busy": "2024-10-27T22:47:40.609461Z",
     "iopub.status.idle": "2024-10-27T22:47:40.624640Z",
     "shell.execute_reply": "2024-10-27T22:47:40.623295Z"
    },
    "papermill": {
     "duration": 0.038576,
     "end_time": "2024-10-27T22:47:40.627215",
     "exception": false,
     "start_time": "2024-10-27T22:47:40.588639",
     "status": "completed"
    },
    "tags": []
   },
   "outputs": [
    {
     "name": "stdout",
     "output_type": "stream",
     "text": [
      "<class 'pandas.core.frame.DataFrame'>\n",
      "Index: 13090 entries, 0 to 14125\n",
      "Data columns (total 12 columns):\n",
      " #   Column              Non-Null Count  Dtype  \n",
      "---  ------              --------------  -----  \n",
      " 0   task_response_id_x  13090 non-null  int64  \n",
      " 1   match_id_x          13090 non-null  int64  \n",
      " 2   evaluator_id_x      13090 non-null  int64  \n",
      " 3   player_id           13090 non-null  int64  \n",
      " 4   position_id         13090 non-null  int64  \n",
      " 5   analysis_id         13090 non-null  int64  \n",
      " 6   attribute_id        13090 non-null  int64  \n",
      " 7   attribute_value     13090 non-null  float64\n",
      " 8   task_response_id_y  13090 non-null  int64  \n",
      " 9   match_id_y          13090 non-null  int64  \n",
      " 10  evaluator_id_y      13090 non-null  int64  \n",
      " 11  potential_label     13090 non-null  object \n",
      "dtypes: float64(1), int64(10), object(1)\n",
      "memory usage: 1.3+ MB\n"
     ]
    }
   ],
   "source": [
    "df.info()"
   ]
  },
  {
   "cell_type": "code",
   "execution_count": 30,
   "id": "61b4d0d4",
   "metadata": {
    "execution": {
     "iopub.execute_input": "2024-10-27T22:47:40.668479Z",
     "iopub.status.busy": "2024-10-27T22:47:40.667701Z",
     "iopub.status.idle": "2024-10-27T22:47:40.752988Z",
     "shell.execute_reply": "2024-10-27T22:47:40.751883Z"
    },
    "papermill": {
     "duration": 0.108704,
     "end_time": "2024-10-27T22:47:40.755425",
     "exception": false,
     "start_time": "2024-10-27T22:47:40.646721",
     "status": "completed"
    },
    "tags": []
   },
   "outputs": [
    {
     "data": {
      "text/html": [
       "<div>\n",
       "<style scoped>\n",
       "    .dataframe tbody tr th:only-of-type {\n",
       "        vertical-align: middle;\n",
       "    }\n",
       "\n",
       "    .dataframe tbody tr th {\n",
       "        vertical-align: top;\n",
       "    }\n",
       "\n",
       "    .dataframe thead th {\n",
       "        text-align: right;\n",
       "    }\n",
       "</style>\n",
       "<table border=\"1\" class=\"dataframe\">\n",
       "  <thead>\n",
       "    <tr style=\"text-align: right;\">\n",
       "      <th>attribute_id</th>\n",
       "      <th>player_id</th>\n",
       "      <th>position_id</th>\n",
       "      <th>potential_label</th>\n",
       "      <th>4322</th>\n",
       "      <th>4323</th>\n",
       "      <th>4324</th>\n",
       "      <th>4325</th>\n",
       "      <th>4326</th>\n",
       "      <th>4327</th>\n",
       "      <th>4328</th>\n",
       "      <th>4329</th>\n",
       "      <th>4330</th>\n",
       "      <th>4332</th>\n",
       "      <th>4333</th>\n",
       "      <th>4335</th>\n",
       "      <th>4338</th>\n",
       "      <th>4339</th>\n",
       "      <th>4340</th>\n",
       "      <th>4341</th>\n",
       "      <th>4342</th>\n",
       "      <th>4343</th>\n",
       "      <th>4344</th>\n",
       "      <th>4345</th>\n",
       "      <th>4348</th>\n",
       "      <th>4349</th>\n",
       "      <th>4350</th>\n",
       "      <th>4351</th>\n",
       "      <th>4352</th>\n",
       "      <th>4353</th>\n",
       "      <th>4354</th>\n",
       "      <th>4355</th>\n",
       "      <th>4356</th>\n",
       "      <th>4357</th>\n",
       "      <th>4407</th>\n",
       "      <th>4408</th>\n",
       "      <th>4423</th>\n",
       "      <th>4426</th>\n",
       "    </tr>\n",
       "  </thead>\n",
       "  <tbody>\n",
       "    <tr>\n",
       "      <th>0</th>\n",
       "      <td>1355710</td>\n",
       "      <td>7</td>\n",
       "      <td>average</td>\n",
       "      <td>50.5</td>\n",
       "      <td>50.5</td>\n",
       "      <td>34.0</td>\n",
       "      <td>50.5</td>\n",
       "      <td>45.0</td>\n",
       "      <td>45.0</td>\n",
       "      <td>45.0</td>\n",
       "      <td>45.0</td>\n",
       "      <td>50.5</td>\n",
       "      <td>56.0</td>\n",
       "      <td>39.5</td>\n",
       "      <td>34.0</td>\n",
       "      <td>39.5</td>\n",
       "      <td>39.5</td>\n",
       "      <td>45.0</td>\n",
       "      <td>45.0</td>\n",
       "      <td>50.5</td>\n",
       "      <td>28.5</td>\n",
       "      <td>23.0</td>\n",
       "      <td>39.5</td>\n",
       "      <td>28.5</td>\n",
       "      <td>28.5</td>\n",
       "      <td>45.0</td>\n",
       "      <td>50.5</td>\n",
       "      <td>56.0</td>\n",
       "      <td>34.0</td>\n",
       "      <td>39.5</td>\n",
       "      <td>50.5</td>\n",
       "      <td>34.0</td>\n",
       "      <td>34.0</td>\n",
       "      <td>56.0</td>\n",
       "      <td>34.0</td>\n",
       "      <td>34.0</td>\n",
       "      <td>56.0</td>\n",
       "    </tr>\n",
       "    <tr>\n",
       "      <th>1</th>\n",
       "      <td>1356362</td>\n",
       "      <td>9</td>\n",
       "      <td>average</td>\n",
       "      <td>67.0</td>\n",
       "      <td>67.0</td>\n",
       "      <td>67.0</td>\n",
       "      <td>67.0</td>\n",
       "      <td>67.0</td>\n",
       "      <td>67.0</td>\n",
       "      <td>67.0</td>\n",
       "      <td>67.0</td>\n",
       "      <td>67.0</td>\n",
       "      <td>67.0</td>\n",
       "      <td>67.0</td>\n",
       "      <td>67.0</td>\n",
       "      <td>67.0</td>\n",
       "      <td>67.0</td>\n",
       "      <td>67.0</td>\n",
       "      <td>67.0</td>\n",
       "      <td>67.0</td>\n",
       "      <td>67.0</td>\n",
       "      <td>56.0</td>\n",
       "      <td>67.0</td>\n",
       "      <td>67.0</td>\n",
       "      <td>56.0</td>\n",
       "      <td>67.0</td>\n",
       "      <td>67.0</td>\n",
       "      <td>67.0</td>\n",
       "      <td>67.0</td>\n",
       "      <td>78.0</td>\n",
       "      <td>67.0</td>\n",
       "      <td>67.0</td>\n",
       "      <td>67.0</td>\n",
       "      <td>67.0</td>\n",
       "      <td>67.0</td>\n",
       "      <td>56.0</td>\n",
       "      <td>78.0</td>\n",
       "    </tr>\n",
       "    <tr>\n",
       "      <th>2</th>\n",
       "      <td>1356375</td>\n",
       "      <td>3</td>\n",
       "      <td>average</td>\n",
       "      <td>67.0</td>\n",
       "      <td>67.0</td>\n",
       "      <td>67.0</td>\n",
       "      <td>67.0</td>\n",
       "      <td>67.0</td>\n",
       "      <td>67.0</td>\n",
       "      <td>67.0</td>\n",
       "      <td>78.0</td>\n",
       "      <td>67.0</td>\n",
       "      <td>67.0</td>\n",
       "      <td>78.0</td>\n",
       "      <td>56.0</td>\n",
       "      <td>67.0</td>\n",
       "      <td>67.0</td>\n",
       "      <td>67.0</td>\n",
       "      <td>67.0</td>\n",
       "      <td>67.0</td>\n",
       "      <td>56.0</td>\n",
       "      <td>56.0</td>\n",
       "      <td>67.0</td>\n",
       "      <td>67.0</td>\n",
       "      <td>56.0</td>\n",
       "      <td>56.0</td>\n",
       "      <td>67.0</td>\n",
       "      <td>67.0</td>\n",
       "      <td>67.0</td>\n",
       "      <td>78.0</td>\n",
       "      <td>67.0</td>\n",
       "      <td>67.0</td>\n",
       "      <td>67.0</td>\n",
       "      <td>67.0</td>\n",
       "      <td>67.0</td>\n",
       "      <td>56.0</td>\n",
       "      <td>78.0</td>\n",
       "    </tr>\n",
       "    <tr>\n",
       "      <th>3</th>\n",
       "      <td>1356375</td>\n",
       "      <td>4</td>\n",
       "      <td>average</td>\n",
       "      <td>67.0</td>\n",
       "      <td>78.0</td>\n",
       "      <td>67.0</td>\n",
       "      <td>67.0</td>\n",
       "      <td>67.0</td>\n",
       "      <td>78.0</td>\n",
       "      <td>78.0</td>\n",
       "      <td>78.0</td>\n",
       "      <td>56.0</td>\n",
       "      <td>67.0</td>\n",
       "      <td>67.0</td>\n",
       "      <td>67.0</td>\n",
       "      <td>78.0</td>\n",
       "      <td>78.0</td>\n",
       "      <td>56.0</td>\n",
       "      <td>67.0</td>\n",
       "      <td>67.0</td>\n",
       "      <td>45.0</td>\n",
       "      <td>45.0</td>\n",
       "      <td>56.0</td>\n",
       "      <td>67.0</td>\n",
       "      <td>67.0</td>\n",
       "      <td>67.0</td>\n",
       "      <td>67.0</td>\n",
       "      <td>78.0</td>\n",
       "      <td>67.0</td>\n",
       "      <td>67.0</td>\n",
       "      <td>67.0</td>\n",
       "      <td>56.0</td>\n",
       "      <td>67.0</td>\n",
       "      <td>56.0</td>\n",
       "      <td>67.0</td>\n",
       "      <td>45.0</td>\n",
       "      <td>56.0</td>\n",
       "    </tr>\n",
       "    <tr>\n",
       "      <th>4</th>\n",
       "      <td>1356411</td>\n",
       "      <td>9</td>\n",
       "      <td>average</td>\n",
       "      <td>67.0</td>\n",
       "      <td>67.0</td>\n",
       "      <td>78.0</td>\n",
       "      <td>78.0</td>\n",
       "      <td>67.0</td>\n",
       "      <td>67.0</td>\n",
       "      <td>67.0</td>\n",
       "      <td>67.0</td>\n",
       "      <td>89.0</td>\n",
       "      <td>78.0</td>\n",
       "      <td>67.0</td>\n",
       "      <td>67.0</td>\n",
       "      <td>67.0</td>\n",
       "      <td>56.0</td>\n",
       "      <td>56.0</td>\n",
       "      <td>67.0</td>\n",
       "      <td>78.0</td>\n",
       "      <td>56.0</td>\n",
       "      <td>56.0</td>\n",
       "      <td>67.0</td>\n",
       "      <td>56.0</td>\n",
       "      <td>67.0</td>\n",
       "      <td>56.0</td>\n",
       "      <td>67.0</td>\n",
       "      <td>67.0</td>\n",
       "      <td>56.0</td>\n",
       "      <td>67.0</td>\n",
       "      <td>67.0</td>\n",
       "      <td>56.0</td>\n",
       "      <td>67.0</td>\n",
       "      <td>89.0</td>\n",
       "      <td>56.0</td>\n",
       "      <td>67.0</td>\n",
       "      <td>78.0</td>\n",
       "    </tr>\n",
       "    <tr>\n",
       "      <th>...</th>\n",
       "      <td>...</td>\n",
       "      <td>...</td>\n",
       "      <td>...</td>\n",
       "      <td>...</td>\n",
       "      <td>...</td>\n",
       "      <td>...</td>\n",
       "      <td>...</td>\n",
       "      <td>...</td>\n",
       "      <td>...</td>\n",
       "      <td>...</td>\n",
       "      <td>...</td>\n",
       "      <td>...</td>\n",
       "      <td>...</td>\n",
       "      <td>...</td>\n",
       "      <td>...</td>\n",
       "      <td>...</td>\n",
       "      <td>...</td>\n",
       "      <td>...</td>\n",
       "      <td>...</td>\n",
       "      <td>...</td>\n",
       "      <td>...</td>\n",
       "      <td>...</td>\n",
       "      <td>...</td>\n",
       "      <td>...</td>\n",
       "      <td>...</td>\n",
       "      <td>...</td>\n",
       "      <td>...</td>\n",
       "      <td>...</td>\n",
       "      <td>...</td>\n",
       "      <td>...</td>\n",
       "      <td>...</td>\n",
       "      <td>...</td>\n",
       "      <td>...</td>\n",
       "      <td>...</td>\n",
       "      <td>...</td>\n",
       "      <td>...</td>\n",
       "      <td>...</td>\n",
       "    </tr>\n",
       "    <tr>\n",
       "      <th>281</th>\n",
       "      <td>1907347</td>\n",
       "      <td>5</td>\n",
       "      <td>average</td>\n",
       "      <td>67.0</td>\n",
       "      <td>78.0</td>\n",
       "      <td>78.0</td>\n",
       "      <td>56.0</td>\n",
       "      <td>78.0</td>\n",
       "      <td>67.0</td>\n",
       "      <td>78.0</td>\n",
       "      <td>67.0</td>\n",
       "      <td>56.0</td>\n",
       "      <td>78.0</td>\n",
       "      <td>78.0</td>\n",
       "      <td>56.0</td>\n",
       "      <td>67.0</td>\n",
       "      <td>67.0</td>\n",
       "      <td>78.0</td>\n",
       "      <td>56.0</td>\n",
       "      <td>67.0</td>\n",
       "      <td>56.0</td>\n",
       "      <td>56.0</td>\n",
       "      <td>67.0</td>\n",
       "      <td>78.0</td>\n",
       "      <td>89.0</td>\n",
       "      <td>67.0</td>\n",
       "      <td>78.0</td>\n",
       "      <td>67.0</td>\n",
       "      <td>67.0</td>\n",
       "      <td>67.0</td>\n",
       "      <td>67.0</td>\n",
       "      <td>56.0</td>\n",
       "      <td>67.0</td>\n",
       "      <td>78.0</td>\n",
       "      <td>78.0</td>\n",
       "      <td>78.0</td>\n",
       "      <td>56.0</td>\n",
       "    </tr>\n",
       "    <tr>\n",
       "      <th>282</th>\n",
       "      <td>1907347</td>\n",
       "      <td>6</td>\n",
       "      <td>average</td>\n",
       "      <td>67.0</td>\n",
       "      <td>67.0</td>\n",
       "      <td>67.0</td>\n",
       "      <td>67.0</td>\n",
       "      <td>67.0</td>\n",
       "      <td>67.0</td>\n",
       "      <td>67.0</td>\n",
       "      <td>78.0</td>\n",
       "      <td>67.0</td>\n",
       "      <td>67.0</td>\n",
       "      <td>78.0</td>\n",
       "      <td>56.0</td>\n",
       "      <td>67.0</td>\n",
       "      <td>67.0</td>\n",
       "      <td>67.0</td>\n",
       "      <td>67.0</td>\n",
       "      <td>78.0</td>\n",
       "      <td>67.0</td>\n",
       "      <td>56.0</td>\n",
       "      <td>67.0</td>\n",
       "      <td>67.0</td>\n",
       "      <td>67.0</td>\n",
       "      <td>67.0</td>\n",
       "      <td>67.0</td>\n",
       "      <td>67.0</td>\n",
       "      <td>67.0</td>\n",
       "      <td>78.0</td>\n",
       "      <td>67.0</td>\n",
       "      <td>67.0</td>\n",
       "      <td>67.0</td>\n",
       "      <td>67.0</td>\n",
       "      <td>67.0</td>\n",
       "      <td>67.0</td>\n",
       "      <td>78.0</td>\n",
       "    </tr>\n",
       "    <tr>\n",
       "      <th>283</th>\n",
       "      <td>1909532</td>\n",
       "      <td>10</td>\n",
       "      <td>average</td>\n",
       "      <td>56.0</td>\n",
       "      <td>45.0</td>\n",
       "      <td>45.0</td>\n",
       "      <td>45.0</td>\n",
       "      <td>56.0</td>\n",
       "      <td>56.0</td>\n",
       "      <td>56.0</td>\n",
       "      <td>56.0</td>\n",
       "      <td>23.0</td>\n",
       "      <td>23.0</td>\n",
       "      <td>34.0</td>\n",
       "      <td>45.0</td>\n",
       "      <td>56.0</td>\n",
       "      <td>34.0</td>\n",
       "      <td>23.0</td>\n",
       "      <td>45.0</td>\n",
       "      <td>45.0</td>\n",
       "      <td>23.0</td>\n",
       "      <td>23.0</td>\n",
       "      <td>34.0</td>\n",
       "      <td>23.0</td>\n",
       "      <td>23.0</td>\n",
       "      <td>34.0</td>\n",
       "      <td>23.0</td>\n",
       "      <td>45.0</td>\n",
       "      <td>45.0</td>\n",
       "      <td>56.0</td>\n",
       "      <td>34.0</td>\n",
       "      <td>34.0</td>\n",
       "      <td>56.0</td>\n",
       "      <td>34.0</td>\n",
       "      <td>34.0</td>\n",
       "      <td>34.0</td>\n",
       "      <td>23.0</td>\n",
       "    </tr>\n",
       "    <tr>\n",
       "      <th>284</th>\n",
       "      <td>1909724</td>\n",
       "      <td>2</td>\n",
       "      <td>highlighted</td>\n",
       "      <td>78.0</td>\n",
       "      <td>78.0</td>\n",
       "      <td>78.0</td>\n",
       "      <td>78.0</td>\n",
       "      <td>78.0</td>\n",
       "      <td>78.0</td>\n",
       "      <td>78.0</td>\n",
       "      <td>78.0</td>\n",
       "      <td>67.0</td>\n",
       "      <td>67.0</td>\n",
       "      <td>78.0</td>\n",
       "      <td>78.0</td>\n",
       "      <td>78.0</td>\n",
       "      <td>67.0</td>\n",
       "      <td>78.0</td>\n",
       "      <td>67.0</td>\n",
       "      <td>78.0</td>\n",
       "      <td>56.0</td>\n",
       "      <td>56.0</td>\n",
       "      <td>78.0</td>\n",
       "      <td>78.0</td>\n",
       "      <td>67.0</td>\n",
       "      <td>78.0</td>\n",
       "      <td>78.0</td>\n",
       "      <td>78.0</td>\n",
       "      <td>78.0</td>\n",
       "      <td>78.0</td>\n",
       "      <td>67.0</td>\n",
       "      <td>67.0</td>\n",
       "      <td>67.0</td>\n",
       "      <td>78.0</td>\n",
       "      <td>78.0</td>\n",
       "      <td>67.0</td>\n",
       "      <td>78.0</td>\n",
       "    </tr>\n",
       "    <tr>\n",
       "      <th>285</th>\n",
       "      <td>1909728</td>\n",
       "      <td>7</td>\n",
       "      <td>highlighted</td>\n",
       "      <td>78.0</td>\n",
       "      <td>67.0</td>\n",
       "      <td>67.0</td>\n",
       "      <td>78.0</td>\n",
       "      <td>67.0</td>\n",
       "      <td>67.0</td>\n",
       "      <td>67.0</td>\n",
       "      <td>78.0</td>\n",
       "      <td>67.0</td>\n",
       "      <td>67.0</td>\n",
       "      <td>78.0</td>\n",
       "      <td>67.0</td>\n",
       "      <td>78.0</td>\n",
       "      <td>67.0</td>\n",
       "      <td>67.0</td>\n",
       "      <td>78.0</td>\n",
       "      <td>78.0</td>\n",
       "      <td>67.0</td>\n",
       "      <td>56.0</td>\n",
       "      <td>78.0</td>\n",
       "      <td>67.0</td>\n",
       "      <td>56.0</td>\n",
       "      <td>67.0</td>\n",
       "      <td>67.0</td>\n",
       "      <td>67.0</td>\n",
       "      <td>67.0</td>\n",
       "      <td>78.0</td>\n",
       "      <td>67.0</td>\n",
       "      <td>67.0</td>\n",
       "      <td>67.0</td>\n",
       "      <td>78.0</td>\n",
       "      <td>67.0</td>\n",
       "      <td>67.0</td>\n",
       "      <td>78.0</td>\n",
       "    </tr>\n",
       "  </tbody>\n",
       "</table>\n",
       "<p>286 rows × 37 columns</p>\n",
       "</div>"
      ],
      "text/plain": [
       "attribute_id  player_id  position_id potential_label  4322  4323  4324  4325  4326  4327  4328  4329  4330  4332  4333  4335  4338  4339  4340  4341  4342  4343  4344  4345  4348  4349  4350  4351  4352  4353  4354  4355  4356  4357  4407  4408  4423  4426\n",
       "0               1355710            7         average  50.5  50.5  34.0  50.5  45.0  45.0  45.0  45.0  50.5  56.0  39.5  34.0  39.5  39.5  45.0  45.0  50.5  28.5  23.0  39.5  28.5  28.5  45.0  50.5  56.0  34.0  39.5  50.5  34.0  34.0  56.0  34.0  34.0  56.0\n",
       "1               1356362            9         average  67.0  67.0  67.0  67.0  67.0  67.0  67.0  67.0  67.0  67.0  67.0  67.0  67.0  67.0  67.0  67.0  67.0  67.0  56.0  67.0  67.0  56.0  67.0  67.0  67.0  67.0  78.0  67.0  67.0  67.0  67.0  67.0  56.0  78.0\n",
       "2               1356375            3         average  67.0  67.0  67.0  67.0  67.0  67.0  67.0  78.0  67.0  67.0  78.0  56.0  67.0  67.0  67.0  67.0  67.0  56.0  56.0  67.0  67.0  56.0  56.0  67.0  67.0  67.0  78.0  67.0  67.0  67.0  67.0  67.0  56.0  78.0\n",
       "3               1356375            4         average  67.0  78.0  67.0  67.0  67.0  78.0  78.0  78.0  56.0  67.0  67.0  67.0  78.0  78.0  56.0  67.0  67.0  45.0  45.0  56.0  67.0  67.0  67.0  67.0  78.0  67.0  67.0  67.0  56.0  67.0  56.0  67.0  45.0  56.0\n",
       "4               1356411            9         average  67.0  67.0  78.0  78.0  67.0  67.0  67.0  67.0  89.0  78.0  67.0  67.0  67.0  56.0  56.0  67.0  78.0  56.0  56.0  67.0  56.0  67.0  56.0  67.0  67.0  56.0  67.0  67.0  56.0  67.0  89.0  56.0  67.0  78.0\n",
       "..                  ...          ...             ...   ...   ...   ...   ...   ...   ...   ...   ...   ...   ...   ...   ...   ...   ...   ...   ...   ...   ...   ...   ...   ...   ...   ...   ...   ...   ...   ...   ...   ...   ...   ...   ...   ...   ...\n",
       "281             1907347            5         average  67.0  78.0  78.0  56.0  78.0  67.0  78.0  67.0  56.0  78.0  78.0  56.0  67.0  67.0  78.0  56.0  67.0  56.0  56.0  67.0  78.0  89.0  67.0  78.0  67.0  67.0  67.0  67.0  56.0  67.0  78.0  78.0  78.0  56.0\n",
       "282             1907347            6         average  67.0  67.0  67.0  67.0  67.0  67.0  67.0  78.0  67.0  67.0  78.0  56.0  67.0  67.0  67.0  67.0  78.0  67.0  56.0  67.0  67.0  67.0  67.0  67.0  67.0  67.0  78.0  67.0  67.0  67.0  67.0  67.0  67.0  78.0\n",
       "283             1909532           10         average  56.0  45.0  45.0  45.0  56.0  56.0  56.0  56.0  23.0  23.0  34.0  45.0  56.0  34.0  23.0  45.0  45.0  23.0  23.0  34.0  23.0  23.0  34.0  23.0  45.0  45.0  56.0  34.0  34.0  56.0  34.0  34.0  34.0  23.0\n",
       "284             1909724            2     highlighted  78.0  78.0  78.0  78.0  78.0  78.0  78.0  78.0  67.0  67.0  78.0  78.0  78.0  67.0  78.0  67.0  78.0  56.0  56.0  78.0  78.0  67.0  78.0  78.0  78.0  78.0  78.0  67.0  67.0  67.0  78.0  78.0  67.0  78.0\n",
       "285             1909728            7     highlighted  78.0  67.0  67.0  78.0  67.0  67.0  67.0  78.0  67.0  67.0  78.0  67.0  78.0  67.0  67.0  78.0  78.0  67.0  56.0  78.0  67.0  56.0  67.0  67.0  67.0  67.0  78.0  67.0  67.0  67.0  78.0  67.0  67.0  78.0\n",
       "\n",
       "[286 rows x 37 columns]"
      ]
     },
     "execution_count": 30,
     "metadata": {},
     "output_type": "execute_result"
    }
   ],
   "source": [
    "## İndekste “player_id”,“position_id” ve “potential_label”, sütunlarda “attribute_id” ve değerlerde scout’ların oyunculara verdiği puan\n",
    "# “attribute_value” olacak şekilde pivot table’ı oluşturunuz.\n",
    "pivot_df=pd.pivot_table(df,values='attribute_value', index=['player_id',\"position_id\",\"potential_label\"], columns='attribute_id')\n",
    "\n",
    "### “reset_index” fonksiyonunu kullanarak indeksleri değişken olarak atayınız ve “attribute_id” sütunlarının isimlerini stringe çeviriniz.\n",
    "pivot_df = pivot_df.reset_index()\n",
    "pivot_df.columns = pivot_df.columns.astype(str)\n",
    "pivot_df"
   ]
  },
  {
   "cell_type": "code",
   "execution_count": 31,
   "id": "73477e53",
   "metadata": {
    "execution": {
     "iopub.execute_input": "2024-10-27T22:47:40.799490Z",
     "iopub.status.busy": "2024-10-27T22:47:40.798431Z",
     "iopub.status.idle": "2024-10-27T22:47:40.809031Z",
     "shell.execute_reply": "2024-10-27T22:47:40.807989Z"
    },
    "papermill": {
     "duration": 0.03545,
     "end_time": "2024-10-27T22:47:40.811393",
     "exception": false,
     "start_time": "2024-10-27T22:47:40.775943",
     "status": "completed"
    },
    "tags": []
   },
   "outputs": [
    {
     "data": {
      "text/plain": [
       "0      0\n",
       "1      0\n",
       "2      0\n",
       "3      0\n",
       "4      0\n",
       "      ..\n",
       "281    0\n",
       "282    0\n",
       "283    0\n",
       "284    1\n",
       "285    1\n",
       "Name: potential_label, Length: 286, dtype: int64"
      ]
     },
     "execution_count": 31,
     "metadata": {},
     "output_type": "execute_result"
    }
   ],
   "source": [
    "##Label Encoder fonksiyonunu kullanarak “potential_label” kategorilerini (average, highlighted) sayısal olarak ifade ediniz.\n",
    "\n",
    "le=LabelEncoder()\n",
    "pivot_df[\"potential_label\"]=le.fit_transform(pivot_df[\"potential_label\"])\n",
    "pivot_df[\"potential_label\"]\n"
   ]
  },
  {
   "cell_type": "code",
   "execution_count": 32,
   "id": "0ab48d34",
   "metadata": {
    "execution": {
     "iopub.execute_input": "2024-10-27T22:47:40.854914Z",
     "iopub.status.busy": "2024-10-27T22:47:40.854459Z",
     "iopub.status.idle": "2024-10-27T22:47:40.869858Z",
     "shell.execute_reply": "2024-10-27T22:47:40.868588Z"
    },
    "papermill": {
     "duration": 0.040247,
     "end_time": "2024-10-27T22:47:40.872221",
     "exception": false,
     "start_time": "2024-10-27T22:47:40.831974",
     "status": "completed"
    },
    "tags": []
   },
   "outputs": [
    {
     "name": "stdout",
     "output_type": "stream",
     "text": [
      "Num Cols ['player_id', 'position_id', '4322', '4323', '4324', '4325', '4326', '4327', '4328', '4329', '4330', '4332', '4333', '4335', '4338', '4339', '4340', '4341', '4342', '4343', '4344', '4345', '4348', '4349', '4350', '4351', '4352', '4353', '4354', '4355', '4356', '4357', '4407', '4408', '4423', '4426']\n",
      "Cat Cols ['potential_label']\n",
      "Cat_but_car []\n"
     ]
    }
   ],
   "source": [
    "cat_cols, num_cols, cat_but_car = grab_col_names(pivot_df, cat_th=5, car_th=20)\n",
    "print(\"Num Cols\",num_cols)\n",
    "print(\"Cat Cols\",cat_cols)\n",
    "print(\"Cat_but_car\",cat_but_car)"
   ]
  },
  {
   "cell_type": "code",
   "execution_count": 33,
   "id": "69dadb22",
   "metadata": {
    "execution": {
     "iopub.execute_input": "2024-10-27T22:47:40.915744Z",
     "iopub.status.busy": "2024-10-27T22:47:40.914680Z",
     "iopub.status.idle": "2024-10-27T22:47:40.934372Z",
     "shell.execute_reply": "2024-10-27T22:47:40.933504Z"
    },
    "papermill": {
     "duration": 0.043938,
     "end_time": "2024-10-27T22:47:40.936782",
     "exception": false,
     "start_time": "2024-10-27T22:47:40.892844",
     "status": "completed"
    },
    "tags": []
   },
   "outputs": [],
   "source": [
    "#  Kaydettiğiniz bütün “num_cols” değişkenlerindeki veriyi ölçeklendirmek için StandardScaler uygulayınız.\n",
    "ss=StandardScaler().fit_transform(pivot_df[num_cols])\n",
    "pivot_df[num_cols] = pd.DataFrame(ss, columns=pivot_df[num_cols].columns)"
   ]
  },
  {
   "cell_type": "code",
   "execution_count": 34,
   "id": "9f0b3deb",
   "metadata": {
    "execution": {
     "iopub.execute_input": "2024-10-27T22:47:40.979802Z",
     "iopub.status.busy": "2024-10-27T22:47:40.979417Z",
     "iopub.status.idle": "2024-10-27T22:47:40.994885Z",
     "shell.execute_reply": "2024-10-27T22:47:40.993886Z"
    },
    "papermill": {
     "duration": 0.040866,
     "end_time": "2024-10-27T22:47:40.998157",
     "exception": false,
     "start_time": "2024-10-27T22:47:40.957291",
     "status": "completed"
    },
    "tags": []
   },
   "outputs": [
    {
     "name": "stdout",
     "output_type": "stream",
     "text": [
      "<class 'pandas.core.frame.DataFrame'>\n",
      "RangeIndex: 286 entries, 0 to 285\n",
      "Data columns (total 37 columns):\n",
      " #   Column           Non-Null Count  Dtype  \n",
      "---  ------           --------------  -----  \n",
      " 0   player_id        286 non-null    float64\n",
      " 1   position_id      286 non-null    float64\n",
      " 2   potential_label  286 non-null    int64  \n",
      " 3   4322             286 non-null    float64\n",
      " 4   4323             286 non-null    float64\n",
      " 5   4324             286 non-null    float64\n",
      " 6   4325             286 non-null    float64\n",
      " 7   4326             286 non-null    float64\n",
      " 8   4327             286 non-null    float64\n",
      " 9   4328             286 non-null    float64\n",
      " 10  4329             286 non-null    float64\n",
      " 11  4330             286 non-null    float64\n",
      " 12  4332             286 non-null    float64\n",
      " 13  4333             286 non-null    float64\n",
      " 14  4335             286 non-null    float64\n",
      " 15  4338             286 non-null    float64\n",
      " 16  4339             286 non-null    float64\n",
      " 17  4340             286 non-null    float64\n",
      " 18  4341             286 non-null    float64\n",
      " 19  4342             286 non-null    float64\n",
      " 20  4343             286 non-null    float64\n",
      " 21  4344             286 non-null    float64\n",
      " 22  4345             286 non-null    float64\n",
      " 23  4348             286 non-null    float64\n",
      " 24  4349             286 non-null    float64\n",
      " 25  4350             286 non-null    float64\n",
      " 26  4351             286 non-null    float64\n",
      " 27  4352             286 non-null    float64\n",
      " 28  4353             286 non-null    float64\n",
      " 29  4354             286 non-null    float64\n",
      " 30  4355             286 non-null    float64\n",
      " 31  4356             286 non-null    float64\n",
      " 32  4357             286 non-null    float64\n",
      " 33  4407             286 non-null    float64\n",
      " 34  4408             286 non-null    float64\n",
      " 35  4423             286 non-null    float64\n",
      " 36  4426             286 non-null    float64\n",
      "dtypes: float64(36), int64(1)\n",
      "memory usage: 82.8 KB\n"
     ]
    }
   ],
   "source": [
    "pivot_df.info()"
   ]
  },
  {
   "cell_type": "code",
   "execution_count": 35,
   "id": "b847c323",
   "metadata": {
    "execution": {
     "iopub.execute_input": "2024-10-27T22:47:41.041548Z",
     "iopub.status.busy": "2024-10-27T22:47:41.040580Z",
     "iopub.status.idle": "2024-10-27T22:47:41.061830Z",
     "shell.execute_reply": "2024-10-27T22:47:41.060880Z"
    },
    "papermill": {
     "duration": 0.045616,
     "end_time": "2024-10-27T22:47:41.064297",
     "exception": false,
     "start_time": "2024-10-27T22:47:41.018681",
     "status": "completed"
    },
    "tags": []
   },
   "outputs": [],
   "source": [
    "pivot_df = pivot_df.apply(lambda x: x.fillna(x.mode()[0]) if x.name != 'potential_label' else x, axis=0)"
   ]
  },
  {
   "cell_type": "code",
   "execution_count": 36,
   "id": "3386bfdf",
   "metadata": {
    "execution": {
     "iopub.execute_input": "2024-10-27T22:47:41.107733Z",
     "iopub.status.busy": "2024-10-27T22:47:41.107224Z",
     "iopub.status.idle": "2024-10-27T22:47:41.113396Z",
     "shell.execute_reply": "2024-10-27T22:47:41.112319Z"
    },
    "papermill": {
     "duration": 0.030641,
     "end_time": "2024-10-27T22:47:41.115644",
     "exception": false,
     "start_time": "2024-10-27T22:47:41.085003",
     "status": "completed"
    },
    "tags": []
   },
   "outputs": [],
   "source": [
    "y = pivot_df[\"potential_label\"]\n",
    "X = pivot_df.drop([\"potential_label\"], axis=1)"
   ]
  },
  {
   "cell_type": "code",
   "execution_count": 37,
   "id": "db8599f5",
   "metadata": {
    "execution": {
     "iopub.execute_input": "2024-10-27T22:47:41.158872Z",
     "iopub.status.busy": "2024-10-27T22:47:41.157952Z",
     "iopub.status.idle": "2024-10-27T22:47:41.372499Z",
     "shell.execute_reply": "2024-10-27T22:47:41.371473Z"
    },
    "papermill": {
     "duration": 0.23894,
     "end_time": "2024-10-27T22:47:41.375316",
     "exception": false,
     "start_time": "2024-10-27T22:47:41.136376",
     "status": "completed"
    },
    "tags": []
   },
   "outputs": [],
   "source": [
    "from imblearn.over_sampling import SMOTE\n",
    "smote = SMOTE(random_state=42)\n",
    "X_res, y_res = smote.fit_resample(X, y)"
   ]
  },
  {
   "cell_type": "code",
   "execution_count": 38,
   "id": "3d12b804",
   "metadata": {
    "execution": {
     "iopub.execute_input": "2024-10-27T22:47:41.419296Z",
     "iopub.status.busy": "2024-10-27T22:47:41.418664Z",
     "iopub.status.idle": "2024-10-27T22:47:41.435041Z",
     "shell.execute_reply": "2024-10-27T22:47:41.433963Z"
    },
    "papermill": {
     "duration": 0.040631,
     "end_time": "2024-10-27T22:47:41.437398",
     "exception": false,
     "start_time": "2024-10-27T22:47:41.396767",
     "status": "completed"
    },
    "tags": []
   },
   "outputs": [
    {
     "name": "stdout",
     "output_type": "stream",
     "text": [
      "<class 'pandas.core.frame.DataFrame'>\n",
      "RangeIndex: 286 entries, 0 to 285\n",
      "Data columns (total 37 columns):\n",
      " #   Column           Non-Null Count  Dtype  \n",
      "---  ------           --------------  -----  \n",
      " 0   player_id        286 non-null    float64\n",
      " 1   position_id      286 non-null    float64\n",
      " 2   potential_label  286 non-null    int64  \n",
      " 3   4322             286 non-null    float64\n",
      " 4   4323             286 non-null    float64\n",
      " 5   4324             286 non-null    float64\n",
      " 6   4325             286 non-null    float64\n",
      " 7   4326             286 non-null    float64\n",
      " 8   4327             286 non-null    float64\n",
      " 9   4328             286 non-null    float64\n",
      " 10  4329             286 non-null    float64\n",
      " 11  4330             286 non-null    float64\n",
      " 12  4332             286 non-null    float64\n",
      " 13  4333             286 non-null    float64\n",
      " 14  4335             286 non-null    float64\n",
      " 15  4338             286 non-null    float64\n",
      " 16  4339             286 non-null    float64\n",
      " 17  4340             286 non-null    float64\n",
      " 18  4341             286 non-null    float64\n",
      " 19  4342             286 non-null    float64\n",
      " 20  4343             286 non-null    float64\n",
      " 21  4344             286 non-null    float64\n",
      " 22  4345             286 non-null    float64\n",
      " 23  4348             286 non-null    float64\n",
      " 24  4349             286 non-null    float64\n",
      " 25  4350             286 non-null    float64\n",
      " 26  4351             286 non-null    float64\n",
      " 27  4352             286 non-null    float64\n",
      " 28  4353             286 non-null    float64\n",
      " 29  4354             286 non-null    float64\n",
      " 30  4355             286 non-null    float64\n",
      " 31  4356             286 non-null    float64\n",
      " 32  4357             286 non-null    float64\n",
      " 33  4407             286 non-null    float64\n",
      " 34  4408             286 non-null    float64\n",
      " 35  4423             286 non-null    float64\n",
      " 36  4426             286 non-null    float64\n",
      "dtypes: float64(36), int64(1)\n",
      "memory usage: 82.8 KB\n"
     ]
    }
   ],
   "source": [
    "pivot_df.info()"
   ]
  },
  {
   "cell_type": "code",
   "execution_count": 39,
   "id": "6183a104",
   "metadata": {
    "execution": {
     "iopub.execute_input": "2024-10-27T22:47:41.480601Z",
     "iopub.status.busy": "2024-10-27T22:47:41.479872Z",
     "iopub.status.idle": "2024-10-27T22:48:11.589204Z",
     "shell.execute_reply": "2024-10-27T22:48:11.587836Z"
    },
    "papermill": {
     "duration": 30.16566,
     "end_time": "2024-10-27T22:48:11.623617",
     "exception": false,
     "start_time": "2024-10-27T22:47:41.457957",
     "status": "completed"
    },
    "tags": []
   },
   "outputs": [
    {
     "name": "stdout",
     "output_type": "stream",
     "text": [
      "Requirement already satisfied: xgboost in /opt/conda/lib/python3.10/site-packages (2.0.3)\r\n",
      "Collecting xgboost\r\n",
      "  Downloading xgboost-2.1.2-py3-none-manylinux_2_28_x86_64.whl.metadata (2.1 kB)\r\n",
      "Requirement already satisfied: numpy in /opt/conda/lib/python3.10/site-packages (from xgboost) (1.26.4)\r\n",
      "Collecting nvidia-nccl-cu12 (from xgboost)\r\n",
      "  Downloading nvidia_nccl_cu12-2.23.4-py3-none-manylinux2014_x86_64.whl.metadata (1.8 kB)\r\n",
      "Requirement already satisfied: scipy in /opt/conda/lib/python3.10/site-packages (from xgboost) (1.14.1)\r\n",
      "Downloading xgboost-2.1.2-py3-none-manylinux_2_28_x86_64.whl (153.9 MB)\r\n",
      "\u001b[2K   \u001b[90m━━━━━━━━━━━━━━━━━━━━━━━━━━━━━━━━━━━━━━━━\u001b[0m \u001b[32m153.9/153.9 MB\u001b[0m \u001b[31m9.9 MB/s\u001b[0m eta \u001b[36m0:00:00\u001b[0m\r\n",
      "\u001b[?25hDownloading nvidia_nccl_cu12-2.23.4-py3-none-manylinux2014_x86_64.whl (199.0 MB)\r\n",
      "\u001b[2K   \u001b[90m━━━━━━━━━━━━━━━━━━━━━━━━━━━━━━━━━━━━━━━━\u001b[0m \u001b[32m199.0/199.0 MB\u001b[0m \u001b[31m7.0 MB/s\u001b[0m eta \u001b[36m0:00:00\u001b[0m\r\n",
      "\u001b[?25hInstalling collected packages: nvidia-nccl-cu12, xgboost\r\n",
      "  Attempting uninstall: xgboost\r\n",
      "    Found existing installation: xgboost 2.0.3\r\n",
      "    Uninstalling xgboost-2.0.3:\r\n",
      "      Successfully uninstalled xgboost-2.0.3\r\n",
      "Successfully installed nvidia-nccl-cu12-2.23.4 xgboost-2.1.2\r\n",
      "Note: you may need to restart the kernel to use updated packages.\n"
     ]
    }
   ],
   "source": [
    "pip install --upgrade xgboost"
   ]
  },
  {
   "cell_type": "code",
   "execution_count": 40,
   "id": "f98c6270",
   "metadata": {
    "execution": {
     "iopub.execute_input": "2024-10-27T22:48:11.690365Z",
     "iopub.status.busy": "2024-10-27T22:48:11.689851Z",
     "iopub.status.idle": "2024-10-27T22:48:13.503831Z",
     "shell.execute_reply": "2024-10-27T22:48:13.502199Z"
    },
    "papermill": {
     "duration": 1.851188,
     "end_time": "2024-10-27T22:48:13.507127",
     "exception": false,
     "start_time": "2024-10-27T22:48:11.655939",
     "status": "completed"
    },
    "tags": []
   },
   "outputs": [
    {
     "name": "stdout",
     "output_type": "stream",
     "text": [
      "Base Models....\n",
      "accuracy: 0.6554 (LR) \n",
      "accuracy: 0.6644 (KNN) \n",
      "accuracy: 0.6802 (SVC) \n",
      "accuracy: 0.5698 (CART) \n",
      "accuracy: 0.714 (RF) \n",
      "accuracy: 0.4932 (Adaboost) \n"
     ]
    }
   ],
   "source": [
    "\n",
    "def base_models(X_res, y_res, scoring=\"roc_auc\"):\n",
    "    print(\"Base Models....\")\n",
    "    classifiers = [('LR', LogisticRegression()),\n",
    "                   ('KNN', KNeighborsClassifier()),\n",
    "                   (\"SVC\", SVC()),\n",
    "                   (\"CART\", DecisionTreeClassifier()),\n",
    "                   (\"RF\", RandomForestClassifier()),\n",
    "                   ('Adaboost', AdaBoostClassifier()),\n",
    "                   #'GBM', GradientBoostingClassifier()),\n",
    "                    #'XGBoost', XGBClassifier(use_label_encoder=False, eval_metric='logloss')),\n",
    "                   ]\n",
    "                   # ('CatBoost', CatBoostClassifier(verbose=False))\n",
    "                   \n",
    "\n",
    "    for name, classifier in classifiers:\n",
    "        cv_results = cross_validate(classifier, X_res, y_res, cv=3, scoring=scoring)\n",
    "        print(f\"{scoring}: {round(cv_results['test_score'].mean(), 4)} ({name}) \")\n",
    "\n",
    "base_models(X_res, y_res, scoring=\"accuracy\")"
   ]
  },
  {
   "cell_type": "code",
   "execution_count": 41,
   "id": "05969ad1",
   "metadata": {
    "execution": {
     "iopub.execute_input": "2024-10-27T22:48:13.574265Z",
     "iopub.status.busy": "2024-10-27T22:48:13.573281Z",
     "iopub.status.idle": "2024-10-27T22:48:15.394269Z",
     "shell.execute_reply": "2024-10-27T22:48:15.393255Z"
    },
    "papermill": {
     "duration": 1.857253,
     "end_time": "2024-10-27T22:48:15.396782",
     "exception": false,
     "start_time": "2024-10-27T22:48:13.539529",
     "status": "completed"
    },
    "tags": []
   },
   "outputs": [
    {
     "name": "stdout",
     "output_type": "stream",
     "text": [
      "Base Models....\n",
      "f1: 0.6986 (LR) \n",
      "f1: 0.7343 (KNN) \n",
      "f1: 0.7246 (SVC) \n",
      "f1: 0.6377 (CART) \n",
      "f1: 0.7563 (RF) \n",
      "f1: 0.6305 (Adaboost) \n"
     ]
    }
   ],
   "source": [
    "base_models(X_res, y_res, scoring=\"f1\")"
   ]
  },
  {
   "cell_type": "code",
   "execution_count": 42,
   "id": "2e52ee15",
   "metadata": {
    "execution": {
     "iopub.execute_input": "2024-10-27T22:48:15.465746Z",
     "iopub.status.busy": "2024-10-27T22:48:15.464883Z",
     "iopub.status.idle": "2024-10-27T22:48:17.277232Z",
     "shell.execute_reply": "2024-10-27T22:48:17.276091Z"
    },
    "papermill": {
     "duration": 1.849104,
     "end_time": "2024-10-27T22:48:17.279618",
     "exception": false,
     "start_time": "2024-10-27T22:48:15.430514",
     "status": "completed"
    },
    "tags": []
   },
   "outputs": [
    {
     "name": "stdout",
     "output_type": "stream",
     "text": [
      "Base Models....\n",
      "precision: 0.6355 (LR) \n",
      "precision: 0.6076 (KNN) \n",
      "precision: 0.6448 (SVC) \n",
      "precision: 0.5676 (CART) \n",
      "precision: 0.6581 (RF) \n",
      "precision: 0.4957 (Adaboost) \n"
     ]
    }
   ],
   "source": [
    "base_models(X_res, y_res, scoring=\"precision\")"
   ]
  },
  {
   "cell_type": "code",
   "execution_count": 43,
   "id": "91fb671a",
   "metadata": {
    "execution": {
     "iopub.execute_input": "2024-10-27T22:48:17.350740Z",
     "iopub.status.busy": "2024-10-27T22:48:17.349798Z",
     "iopub.status.idle": "2024-10-27T22:48:19.179430Z",
     "shell.execute_reply": "2024-10-27T22:48:19.177886Z"
    },
    "papermill": {
     "duration": 1.868735,
     "end_time": "2024-10-27T22:48:19.182167",
     "exception": false,
     "start_time": "2024-10-27T22:48:17.313432",
     "status": "completed"
    },
    "tags": []
   },
   "outputs": [
    {
     "name": "stdout",
     "output_type": "stream",
     "text": [
      "Base Models....\n",
      "recall: 0.7838 (LR) \n",
      "recall: 0.9279 (KNN) \n",
      "recall: 0.8288 (SVC) \n",
      "recall: 0.7928 (CART) \n",
      "recall: 0.8874 (RF) \n",
      "recall: 0.8694 (Adaboost) \n"
     ]
    }
   ],
   "source": [
    "base_models(X_res, y_res, scoring=\"recall\")"
   ]
  }
 ],
 "metadata": {
  "kaggle": {
   "accelerator": "none",
   "dataSources": [
    {
     "datasetId": 5960840,
     "sourceId": 9738793,
     "sourceType": "datasetVersion"
    }
   ],
   "dockerImageVersionId": 30786,
   "isGpuEnabled": false,
   "isInternetEnabled": true,
   "language": "python",
   "sourceType": "notebook"
  },
  "kernelspec": {
   "display_name": "Python 3",
   "language": "python",
   "name": "python3"
  },
  "language_info": {
   "codemirror_mode": {
    "name": "ipython",
    "version": 3
   },
   "file_extension": ".py",
   "mimetype": "text/x-python",
   "name": "python",
   "nbconvert_exporter": "python",
   "pygments_lexer": "ipython3",
   "version": "3.10.14"
  },
  "papermill": {
   "default_parameters": {},
   "duration": 49.454211,
   "end_time": "2024-10-27T22:48:20.040466",
   "environment_variables": {},
   "exception": null,
   "input_path": "__notebook__.ipynb",
   "output_path": "__notebook__.ipynb",
   "parameters": {},
   "start_time": "2024-10-27T22:47:30.586255",
   "version": "2.6.0"
  }
 },
 "nbformat": 4,
 "nbformat_minor": 5
}
